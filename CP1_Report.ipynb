{
 "cells": [
  {
   "cell_type": "markdown",
   "metadata": {},
   "source": [
    "# Churn Prediction of Bank Users\n",
    "## 蕭云雅口無言不由衷於寫出來了\n",
    "### **- 陳冠穎 / 統計109 / H24051312<br />- 李艾霓 / 統計111 / H24076095**\n",
    "#### 2019/4/22\n",
    "* **1 競賽敘述與目標**\n",
    "* **2 資料前處理**\n",
    "    * 2.1 載入資料\n",
    "    * 2.2 檢查缺失值\n",
    "    * 2.3 檢查離群值\n",
    "* **3 特徵處理與分析**\n",
    "    * 3.1 移除對預測沒有幫助的變項\n",
    "    * 3.2 轉換類別資料 (虛擬變數 Dummy Variable)\n",
    "    * 3.3 資料分析\n",
    "* **4 預測訓練模型**\n",
    "    * 4.1 符合需求的衡量函式\n",
    "    * 4.2 從調整參數到訓練模型\n",
    "    * 4.3 將結果合併\n",
    "    * 4.4 最終預測結果及輸出\n",
    "* **5 預測結果分析**\n",
    "    * 5.1 驗證資料得分\n",
    "    * 5.2 測試資料上傳得分\n",
    "    * 5.3 結果分析\n",
    "* **6 感想與心得**\n",
    "\n",
    "    "
   ]
  },
  {
   "cell_type": "markdown",
   "metadata": {},
   "source": [
    "## 1. 競賽敘述與目標\n",
    "\n",
    "　　此競賽為2019年國立成功大學統計學系李政德老師所開設的選修課程「資料科學導論」中之小組競賽，在此競賽中我們會獲得兩個資料集，分別為訓練資料(8000筆)及測試資料(2000筆)，而我們的任務則是透過這些資料去預測銀行客戶最終是否會離開銀行(即訓練資料中的\"Exited\"欄位)，最終將我們預測測試資料的結果上傳到課程[競賽網站](http://140.116.52.202:5566/)，即獲得預測分數。\n",
    "- 分數的計算方式為: Accuracy(30%), Precision(30%), F1 Score(40%)\n",
    "\n",
    "### 前言\n",
    "　　在這份Note book之前，我們已經做過了許多的嘗試，如線性模型、SVC、KNN、決策樹、及許多由決策樹發展出的模型(Random Forest, AdaBoost, Gradient Boosting...)，而其中表現較好的還是XGBoost, CatBoost, 以及LightGBM 這三者。我們亦嘗試過將許多不同組合的分類模型Ensemble, 使用如Voting, Stacking, 及Blending等不同的手法，期望能獲得更好的結果，但結果均不如預期(甚至比原本單一分類模型效果更差)。\n",
    "\n",
    "　　我們也曾將資料與分類模型預測會離開的機率一起列出，發現在模型預測機率約.2~.8的部分是很容易被分類錯的，亦考慮過在此範圍內的樣本可能具有不同的特徵分布(但最後證實此假設是錯誤的)。\n",
    "\n",
    "　　因為遇到了瓶頸，我們又停下來重新思考其他可能的做法。我們分析競賽分數計算的標準，發現Precision在分數中佔了相對大的份量(除了30%之外，F1 Score有一半也受Precision的影響)，**因此，這份Note book中最主要的目的即是透過將預測的Pricision提高，藉以拉高整體分數**。"
   ]
  },
  {
   "cell_type": "code",
   "execution_count": 1,
   "metadata": {},
   "outputs": [
    {
     "data": {
      "text/html": [
       "        <script type=\"text/javascript\">\n",
       "        window.PlotlyConfig = {MathJaxConfig: 'local'};\n",
       "        if (window.MathJax) {MathJax.Hub.Config({SVG: {font: \"STIX-Web\"}});}\n",
       "        if (typeof require !== 'undefined') {\n",
       "        require.undef(\"plotly\");\n",
       "        requirejs.config({\n",
       "            paths: {\n",
       "                'plotly': ['https://cdn.plot.ly/plotly-latest.min']\n",
       "            }\n",
       "        });\n",
       "        require(['plotly'], function(Plotly) {\n",
       "            window._Plotly = Plotly;\n",
       "        });\n",
       "        }\n",
       "        </script>\n",
       "        "
      ]
     },
     "metadata": {},
     "output_type": "display_data"
    }
   ],
   "source": [
    "# Load in our libraries\n",
    "import pandas as pd\n",
    "import numpy as np\n",
    "import re\n",
    "import sklearn\n",
    "import seaborn as sns\n",
    "import matplotlib.pyplot as plt\n",
    "%matplotlib inline\n",
    "\n",
    "import plotly.offline as py\n",
    "py.init_notebook_mode(connected=True)\n",
    "import plotly.graph_objs as go\n",
    "import plotly.tools as tls\n",
    "\n",
    "from collections import Counter\n",
    "\n",
    "import warnings\n",
    "warnings.filterwarnings('ignore')\n",
    "\n",
    "# Going to try these models\n",
    "from sklearn.ensemble import (RandomForestClassifier, AdaBoostClassifier, \n",
    "                              GradientBoostingClassifier, ExtraTreesClassifier)\n",
    "from sklearn.svm import SVC\n",
    "import xgboost as xgb\n",
    "from catboost import CatBoostClassifier\n",
    "from lightgbm.sklearn import LGBMClassifier\n",
    "from sklearn.model_selection import KFold, train_test_split\n",
    "from sklearn.preprocessing import StandardScaler\n",
    "from sklearn.model_selection import GridSearchCV"
   ]
  },
  {
   "cell_type": "markdown",
   "metadata": {},
   "source": [
    "## 2. 資料前處理\n",
    "### 2.1 載入資料"
   ]
  },
  {
   "cell_type": "code",
   "execution_count": 2,
   "metadata": {},
   "outputs": [
    {
     "data": {
      "text/html": [
       "<div>\n",
       "<style scoped>\n",
       "    .dataframe tbody tr th:only-of-type {\n",
       "        vertical-align: middle;\n",
       "    }\n",
       "\n",
       "    .dataframe tbody tr th {\n",
       "        vertical-align: top;\n",
       "    }\n",
       "\n",
       "    .dataframe thead th {\n",
       "        text-align: right;\n",
       "    }\n",
       "</style>\n",
       "<table border=\"1\" class=\"dataframe\">\n",
       "  <thead>\n",
       "    <tr style=\"text-align: right;\">\n",
       "      <th></th>\n",
       "      <th>Unnamed: 0</th>\n",
       "      <th>RowNumber</th>\n",
       "      <th>CustomerId</th>\n",
       "      <th>Surname</th>\n",
       "      <th>CreditScore</th>\n",
       "      <th>Geography</th>\n",
       "      <th>Gender</th>\n",
       "      <th>Age</th>\n",
       "      <th>Tenure</th>\n",
       "      <th>Balance</th>\n",
       "      <th>NumOfProducts</th>\n",
       "      <th>HasCrCard</th>\n",
       "      <th>IsActiveMember</th>\n",
       "      <th>EstimatedSalary</th>\n",
       "      <th>Exited</th>\n",
       "    </tr>\n",
       "  </thead>\n",
       "  <tbody>\n",
       "    <tr>\n",
       "      <th>0</th>\n",
       "      <td>0</td>\n",
       "      <td>551</td>\n",
       "      <td>15806307</td>\n",
       "      <td>S2336</td>\n",
       "      <td>720</td>\n",
       "      <td>S2</td>\n",
       "      <td>Male</td>\n",
       "      <td>38</td>\n",
       "      <td>5</td>\n",
       "      <td>114051.97</td>\n",
       "      <td>2</td>\n",
       "      <td>0</td>\n",
       "      <td>1</td>\n",
       "      <td>107577.29</td>\n",
       "      <td>0</td>\n",
       "    </tr>\n",
       "    <tr>\n",
       "      <th>1</th>\n",
       "      <td>1</td>\n",
       "      <td>6897</td>\n",
       "      <td>15709621</td>\n",
       "      <td>S1500</td>\n",
       "      <td>682</td>\n",
       "      <td>S0</td>\n",
       "      <td>Female</td>\n",
       "      <td>54</td>\n",
       "      <td>4</td>\n",
       "      <td>62397.41</td>\n",
       "      <td>1</td>\n",
       "      <td>1</td>\n",
       "      <td>0</td>\n",
       "      <td>113088.60</td>\n",
       "      <td>1</td>\n",
       "    </tr>\n",
       "    <tr>\n",
       "      <th>2</th>\n",
       "      <td>2</td>\n",
       "      <td>4588</td>\n",
       "      <td>15619340</td>\n",
       "      <td>S1865</td>\n",
       "      <td>672</td>\n",
       "      <td>S0</td>\n",
       "      <td>Female</td>\n",
       "      <td>31</td>\n",
       "      <td>5</td>\n",
       "      <td>119903.67</td>\n",
       "      <td>1</td>\n",
       "      <td>1</td>\n",
       "      <td>1</td>\n",
       "      <td>132925.17</td>\n",
       "      <td>0</td>\n",
       "    </tr>\n",
       "  </tbody>\n",
       "</table>\n",
       "</div>"
      ],
      "text/plain": [
       "   Unnamed: 0  RowNumber  CustomerId Surname  CreditScore Geography  Gender  \\\n",
       "0           0        551    15806307   S2336          720        S2    Male   \n",
       "1           1       6897    15709621   S1500          682        S0  Female   \n",
       "2           2       4588    15619340   S1865          672        S0  Female   \n",
       "\n",
       "   Age  Tenure    Balance  NumOfProducts  HasCrCard  IsActiveMember  \\\n",
       "0   38       5  114051.97              2          0               1   \n",
       "1   54       4   62397.41              1          1               0   \n",
       "2   31       5  119903.67              1          1               1   \n",
       "\n",
       "   EstimatedSalary  Exited  \n",
       "0        107577.29       0  \n",
       "1        113088.60       1  \n",
       "2        132925.17       0  "
      ]
     },
     "execution_count": 2,
     "metadata": {},
     "output_type": "execute_result"
    }
   ],
   "source": [
    "train = pd.read_csv('train.csv')\n",
    "test = pd.read_csv('test.csv')\n",
    "dataset =  pd.concat(objs=[train, test], axis=0).reset_index(drop=True)\n",
    "\n",
    "train.head(3)"
   ]
  },
  {
   "cell_type": "markdown",
   "metadata": {},
   "source": [
    "### 2.2 檢查缺失值"
   ]
  },
  {
   "cell_type": "code",
   "execution_count": 3,
   "metadata": {},
   "outputs": [
    {
     "data": {
      "text/plain": [
       "Age                   0\n",
       "Balance               0\n",
       "CreditScore           0\n",
       "CustomerId            0\n",
       "EstimatedSalary       0\n",
       "Exited             2000\n",
       "Gender                0\n",
       "Geography             0\n",
       "HasCrCard             0\n",
       "IsActiveMember        0\n",
       "NumOfProducts         0\n",
       "RowNumber             0\n",
       "Surname               0\n",
       "Tenure                0\n",
       "Unnamed: 0            0\n",
       "dtype: int64"
      ]
     },
     "execution_count": 3,
     "metadata": {},
     "output_type": "execute_result"
    }
   ],
   "source": [
    "# Check for Null values\n",
    "dataset.isnull().sum()"
   ]
  },
  {
   "cell_type": "markdown",
   "metadata": {},
   "source": [
    "資料中沒有任何缺失值。"
   ]
  },
  {
   "cell_type": "markdown",
   "metadata": {},
   "source": [
    "### 2.3 檢查離群值"
   ]
  },
  {
   "cell_type": "code",
   "execution_count": 4,
   "metadata": {
    "scrolled": true
   },
   "outputs": [
    {
     "data": {
      "text/html": [
       "<div>\n",
       "<style scoped>\n",
       "    .dataframe tbody tr th:only-of-type {\n",
       "        vertical-align: middle;\n",
       "    }\n",
       "\n",
       "    .dataframe tbody tr th {\n",
       "        vertical-align: top;\n",
       "    }\n",
       "\n",
       "    .dataframe thead th {\n",
       "        text-align: right;\n",
       "    }\n",
       "</style>\n",
       "<table border=\"1\" class=\"dataframe\">\n",
       "  <thead>\n",
       "    <tr style=\"text-align: right;\">\n",
       "      <th></th>\n",
       "      <th>Unnamed: 0</th>\n",
       "      <th>RowNumber</th>\n",
       "      <th>CustomerId</th>\n",
       "      <th>Surname</th>\n",
       "      <th>CreditScore</th>\n",
       "      <th>Geography</th>\n",
       "      <th>Gender</th>\n",
       "      <th>Age</th>\n",
       "      <th>Tenure</th>\n",
       "      <th>Balance</th>\n",
       "      <th>NumOfProducts</th>\n",
       "      <th>HasCrCard</th>\n",
       "      <th>IsActiveMember</th>\n",
       "      <th>EstimatedSalary</th>\n",
       "      <th>Exited</th>\n",
       "    </tr>\n",
       "  </thead>\n",
       "  <tbody>\n",
       "  </tbody>\n",
       "</table>\n",
       "</div>"
      ],
      "text/plain": [
       "Empty DataFrame\n",
       "Columns: [Unnamed: 0, RowNumber, CustomerId, Surname, CreditScore, Geography, Gender, Age, Tenure, Balance, NumOfProducts, HasCrCard, IsActiveMember, EstimatedSalary, Exited]\n",
       "Index: []"
      ]
     },
     "execution_count": 4,
     "metadata": {},
     "output_type": "execute_result"
    }
   ],
   "source": [
    "# Outlier detection \n",
    "# 程式碼源自: https://www.kaggle.com/yassineghouzam/titanic-top-4-with-ensemble-modeling\n",
    "\n",
    "def detect_outliers(df,n,features):\n",
    "    \"\"\"\n",
    "    Takes a dataframe df of features and returns a list of the indices\n",
    "    corresponding to the observations containing more than n outliers according\n",
    "    to the Tukey method.\n",
    "    \"\"\"\n",
    "    outlier_indices = []\n",
    "    \n",
    "    # iterate over features(columns)\n",
    "    for col in features:\n",
    "        # 1st quartile (25%)\n",
    "        Q1 = np.percentile(df[col], 25)\n",
    "        # 3rd quartile (75%)\n",
    "        Q3 = np.percentile(df[col],75)\n",
    "        # Interquartile range (IQR)\n",
    "        IQR = Q3 - Q1\n",
    "        \n",
    "        # outlier step\n",
    "        outlier_step = 1.5 * IQR\n",
    "        \n",
    "        # Determine a list of indices of outliers for feature col\n",
    "        outlier_list_col = df[(df[col] < Q1 - outlier_step) | (df[col] > Q3 + outlier_step )].index\n",
    "        \n",
    "        # append the found outlier indices for col to the list of outlier indices \n",
    "        outlier_indices.extend(outlier_list_col)\n",
    "        \n",
    "    # select observations containing more than 2 outliers\n",
    "    outlier_indices = Counter(outlier_indices)        \n",
    "    multiple_outliers = list( k for k, v in outlier_indices.items() if v > n )\n",
    "    \n",
    "    return multiple_outliers   \n",
    "\n",
    "# detect outliers from CreditScore, Age, Balance and EstimatedSalary\n",
    "Outliers_to_drop = detect_outliers(train,2,[\"CreditScore\",\"Age\",\"Balance\",\"EstimatedSalary\"])\n",
    "\n",
    "train.loc[Outliers_to_drop] # Show the outliers rows"
   ]
  },
  {
   "cell_type": "markdown",
   "metadata": {},
   "source": [
    "資料中沒有任何離群值。"
   ]
  },
  {
   "cell_type": "markdown",
   "metadata": {},
   "source": [
    "## 3. 特徵處理與分析\n",
    "### 3.1 移除對預測沒有幫助的變項"
   ]
  },
  {
   "cell_type": "code",
   "execution_count": 5,
   "metadata": {},
   "outputs": [
    {
     "data": {
      "text/plain": [
       "Unnamed: 0         8000\n",
       "RowNumber          8000\n",
       "CustomerId         8000\n",
       "Surname            2589\n",
       "CreditScore         286\n",
       "Geography             3\n",
       "Gender                2\n",
       "Age                  48\n",
       "Tenure                6\n",
       "Balance            5064\n",
       "NumOfProducts         4\n",
       "HasCrCard             2\n",
       "IsActiveMember        2\n",
       "EstimatedSalary    7998\n",
       "Exited                2\n",
       "dtype: int64"
      ]
     },
     "execution_count": 5,
     "metadata": {},
     "output_type": "execute_result"
    }
   ],
   "source": [
    "train.nunique()"
   ]
  },
  {
   "cell_type": "markdown",
   "metadata": {},
   "source": [
    "Unnamed: 0, RowNumber, CustomerId三者都屬於每人獨有的編號，應不具意義；而Surname我們亦假定其與個體之行為無關，可能誤導預測結果(我們也確實在先前的嘗試中得到了驗證)，因此將以上四個變數從資料中移除。"
   ]
  },
  {
   "cell_type": "code",
   "execution_count": 6,
   "metadata": {},
   "outputs": [
    {
     "data": {
      "text/html": [
       "<div>\n",
       "<style scoped>\n",
       "    .dataframe tbody tr th:only-of-type {\n",
       "        vertical-align: middle;\n",
       "    }\n",
       "\n",
       "    .dataframe tbody tr th {\n",
       "        vertical-align: top;\n",
       "    }\n",
       "\n",
       "    .dataframe thead th {\n",
       "        text-align: right;\n",
       "    }\n",
       "</style>\n",
       "<table border=\"1\" class=\"dataframe\">\n",
       "  <thead>\n",
       "    <tr style=\"text-align: right;\">\n",
       "      <th></th>\n",
       "      <th>CreditScore</th>\n",
       "      <th>Geography</th>\n",
       "      <th>Gender</th>\n",
       "      <th>Age</th>\n",
       "      <th>Tenure</th>\n",
       "      <th>Balance</th>\n",
       "      <th>NumOfProducts</th>\n",
       "      <th>HasCrCard</th>\n",
       "      <th>IsActiveMember</th>\n",
       "      <th>EstimatedSalary</th>\n",
       "      <th>Exited</th>\n",
       "    </tr>\n",
       "  </thead>\n",
       "  <tbody>\n",
       "    <tr>\n",
       "      <th>0</th>\n",
       "      <td>720</td>\n",
       "      <td>S2</td>\n",
       "      <td>Male</td>\n",
       "      <td>38</td>\n",
       "      <td>5</td>\n",
       "      <td>114051.97</td>\n",
       "      <td>2</td>\n",
       "      <td>0</td>\n",
       "      <td>1</td>\n",
       "      <td>107577.29</td>\n",
       "      <td>0</td>\n",
       "    </tr>\n",
       "    <tr>\n",
       "      <th>1</th>\n",
       "      <td>682</td>\n",
       "      <td>S0</td>\n",
       "      <td>Female</td>\n",
       "      <td>54</td>\n",
       "      <td>4</td>\n",
       "      <td>62397.41</td>\n",
       "      <td>1</td>\n",
       "      <td>1</td>\n",
       "      <td>0</td>\n",
       "      <td>113088.60</td>\n",
       "      <td>1</td>\n",
       "    </tr>\n",
       "    <tr>\n",
       "      <th>2</th>\n",
       "      <td>672</td>\n",
       "      <td>S0</td>\n",
       "      <td>Female</td>\n",
       "      <td>31</td>\n",
       "      <td>5</td>\n",
       "      <td>119903.67</td>\n",
       "      <td>1</td>\n",
       "      <td>1</td>\n",
       "      <td>1</td>\n",
       "      <td>132925.17</td>\n",
       "      <td>0</td>\n",
       "    </tr>\n",
       "  </tbody>\n",
       "</table>\n",
       "</div>"
      ],
      "text/plain": [
       "   CreditScore Geography  Gender  Age  Tenure    Balance  NumOfProducts  \\\n",
       "0          720        S2    Male   38       5  114051.97              2   \n",
       "1          682        S0  Female   54       4   62397.41              1   \n",
       "2          672        S0  Female   31       5  119903.67              1   \n",
       "\n",
       "   HasCrCard  IsActiveMember  EstimatedSalary  Exited  \n",
       "0          0               1        107577.29       0  \n",
       "1          1               0        113088.60       1  \n",
       "2          1               1        132925.17       0  "
      ]
     },
     "execution_count": 6,
     "metadata": {},
     "output_type": "execute_result"
    }
   ],
   "source": [
    "train.drop(['Unnamed: 0', 'RowNumber', 'CustomerId', 'Surname'], axis=1, inplace=True)\n",
    "RowNumber = test['RowNumber']\n",
    "test.drop(['Unnamed: 0', 'RowNumber', 'CustomerId', 'Surname'], axis=1, inplace=True)\n",
    "\n",
    "train.head(3)"
   ]
  },
  {
   "cell_type": "markdown",
   "metadata": {},
   "source": [
    "### 3.2 轉換類別資料 (虛擬變數 Dummy Variable)"
   ]
  },
  {
   "cell_type": "code",
   "execution_count": 7,
   "metadata": {},
   "outputs": [],
   "source": [
    "train[\"Gender\"] = train[\"Gender\"].map({\"Male\": 0, \"Female\":1})\n",
    "test[\"Gender\"] = test[\"Gender\"].map({\"Male\": 0, \"Female\":1})\n",
    "\n",
    "train = pd.get_dummies(train, columns=[\"Geography\"],prefix=\"Geo\")\n",
    "test = pd.get_dummies(test, columns=[\"Geography\"],prefix=\"Geo\")\n",
    "\n",
    "train.drop('Geo_S2',axis=1,inplace=True)\n",
    "test.drop('Geo_S2',axis=1,inplace=True)"
   ]
  },
  {
   "cell_type": "markdown",
   "metadata": {},
   "source": [
    "### 3.3 資料分析\n",
    "#### 離開與未離開之比例"
   ]
  },
  {
   "cell_type": "code",
   "execution_count": 8,
   "metadata": {},
   "outputs": [
    {
     "name": "stdout",
     "output_type": "stream",
     "text": [
      "Percentage of Exited: 20.4 %\n"
     ]
    },
    {
     "data": {
      "image/png": "[encoded data removed]",
      "text/plain": [
       "<Figure size 432x288 with 1 Axes>"
      ]
     },
     "metadata": {},
     "output_type": "display_data"
    }
   ],
   "source": [
    "target = train['Exited']\n",
    "sns.set_style('whitegrid')\n",
    "sns.countplot(target)\n",
    "print('Percentage of Exited:',train.Exited.sum()/train.Exited.count()*100,'%')"
   ]
  },
  {
   "cell_type": "markdown",
   "metadata": {},
   "source": [
    "#### 變項間相關性"
   ]
  },
  {
   "cell_type": "code",
   "execution_count": 9,
   "metadata": {},
   "outputs": [
    {
     "data": {
      "text/plain": [
       "<matplotlib.axes._subplots.AxesSubplot at 0x1c1f3997128>"
      ]
     },
     "execution_count": 9,
     "metadata": {},
     "output_type": "execute_result"
    },
    {
     "data": {
      "image/png": "[encoded data removed]",
      "text/plain": [
       "<Figure size 1008x864 with 2 Axes>"
      ]
     },
     "metadata": {},
     "output_type": "display_data"
    }
   ],
   "source": [
    "colormap = plt.cm.RdBu\n",
    "plt.figure(figsize=(14,12))\n",
    "plt.title('Pearson Correlation of Features', y=1.05, size=15)\n",
    "sns.heatmap(train.astype(float).corr(),linewidths=0.1,vmax=1.0, \n",
    "            square=True, cmap=colormap, linecolor='white', annot=True)"
   ]
  },
  {
   "cell_type": "markdown",
   "metadata": {},
   "source": [
    "我們可以發現，在所有變項中僅有年齡與是否離開銀行具有較顯著的相關性。\n",
    "(但並不代表其他變項是沒有用處的)\n",
    "\n",
    "稍後我們將依相關程度作為順序一一檢視。"
   ]
  },
  {
   "cell_type": "markdown",
   "metadata": {},
   "source": [
    "#### Age"
   ]
  },
  {
   "cell_type": "code",
   "execution_count": 10,
   "metadata": {
    "scrolled": true
   },
   "outputs": [
    {
     "data": {
      "image/png": "[encoded data removed]",
      "text/plain": [
       "<Figure size 432x216 with 2 Axes>"
      ]
     },
     "metadata": {},
     "output_type": "display_data"
    }
   ],
   "source": [
    "# Explore Age vs Survived\n",
    "g = sns.FacetGrid(train, col='Exited')\n",
    "g = g.map(sns.distplot, \"Age\")"
   ]
  },
  {
   "cell_type": "markdown",
   "metadata": {},
   "source": [
    "可以發現離開及未離開兩者的年齡分配具有差異，我們再將圖疊合："
   ]
  },
  {
   "cell_type": "code",
   "execution_count": 11,
   "metadata": {
    "scrolled": true
   },
   "outputs": [
    {
     "data": {
      "image/png": "[encoded data removed]",
      "text/plain": [
       "<Figure size 432x288 with 1 Axes>"
      ]
     },
     "metadata": {},
     "output_type": "display_data"
    }
   ],
   "source": [
    "# Explore Age distibution \n",
    "g = sns.kdeplot(train[\"Age\"][(train[\"Exited\"] == 0) & (train[\"Age\"].notnull())], color=\"Blue\", shade = True)\n",
    "g = sns.kdeplot(train[\"Age\"][(train[\"Exited\"] == 1) & (train[\"Age\"].notnull())], ax =g, color=\"Red\", shade= True)\n",
    "g.set_xlabel(\"Age\")\n",
    "g.set_ylabel(\"Frequency\")\n",
    "g = g.legend([\"Not Exited\",\"Exied\"])"
   ]
  },
  {
   "cell_type": "markdown",
   "metadata": {},
   "source": [
    "#### Geography"
   ]
  },
  {
   "cell_type": "code",
   "execution_count": 12,
   "metadata": {},
   "outputs": [
    {
     "data": {
      "image/png": "[encoded data removed]",
      "text/plain": [
       "<Figure size 432x288 with 1 Axes>"
      ]
     },
     "metadata": {},
     "output_type": "display_data"
    }
   ],
   "source": [
    "train2 = pd.read_csv('train.csv')\n",
    "g = sns.barplot(x=\"Geography\",y=\"Exited\",data=train2)\n",
    "g = g.set_ylabel(\"Exited Probability\")"
   ]
  },
  {
   "cell_type": "markdown",
   "metadata": {},
   "source": [
    "可以發現相較於另外兩個地區，S1地區的顧客有較大的機率會離開。"
   ]
  },
  {
   "cell_type": "markdown",
   "metadata": {},
   "source": [
    "#### IsActiveMember"
   ]
  },
  {
   "cell_type": "code",
   "execution_count": 13,
   "metadata": {},
   "outputs": [
    {
     "data": {
      "image/png": "[encoded data removed]",
      "text/plain": [
       "<Figure size 432x288 with 1 Axes>"
      ]
     },
     "metadata": {},
     "output_type": "display_data"
    }
   ],
   "source": [
    "g = sns.barplot(x=\"IsActiveMember\",y=\"Exited\",data=train)\n",
    "g = g.set_ylabel(\"Exited Probability\")"
   ]
  },
  {
   "cell_type": "markdown",
   "metadata": {},
   "source": [
    "不意外的，交易活動較頻繁的顧客有較低的離開可能性。"
   ]
  },
  {
   "cell_type": "markdown",
   "metadata": {},
   "source": [
    "#### Balance"
   ]
  },
  {
   "cell_type": "code",
   "execution_count": 14,
   "metadata": {},
   "outputs": [
    {
     "data": {
      "image/png": "[encoded data removed]",
      "text/plain": [
       "<Figure size 432x216 with 2 Axes>"
      ]
     },
     "metadata": {},
     "output_type": "display_data"
    }
   ],
   "source": [
    "g = sns.FacetGrid(train, col='Exited')\n",
    "g = g.map(sns.distplot, \"Balance\")"
   ]
  },
  {
   "cell_type": "markdown",
   "metadata": {},
   "source": [
    "資料的Balance呈現一種特殊的分配情況，一樣的我們將圖疊合："
   ]
  },
  {
   "cell_type": "code",
   "execution_count": 15,
   "metadata": {},
   "outputs": [
    {
     "data": {
      "image/png": "[encoded data removed]",
      "text/plain": [
       "<Figure size 432x288 with 1 Axes>"
      ]
     },
     "metadata": {},
     "output_type": "display_data"
    }
   ],
   "source": [
    "g = sns.kdeplot(train[\"Balance\"][(train[\"Exited\"] == 0) & (train[\"Balance\"].notnull())], color=\"Blue\", shade = True)\n",
    "g = sns.kdeplot(train[\"Balance\"][(train[\"Exited\"] == 1) & (train[\"Balance\"].notnull())], ax =g, color=\"Red\", shade= True)\n",
    "g.set_xlabel(\"Balance\")\n",
    "g.set_ylabel(\"Frequency\")\n",
    "g = g.legend([\"Not Exited\",\"Exied\"])"
   ]
  },
  {
   "cell_type": "markdown",
   "metadata": {},
   "source": [
    "#### Gender"
   ]
  },
  {
   "cell_type": "code",
   "execution_count": 16,
   "metadata": {
    "scrolled": true
   },
   "outputs": [
    {
     "data": {
      "image/png": "[encoded data removed]",
      "text/plain": [
       "<Figure size 432x288 with 1 Axes>"
      ]
     },
     "metadata": {},
     "output_type": "display_data"
    }
   ],
   "source": [
    "g = sns.barplot(x=\"Gender\",y=\"Exited\",data=train2)\n",
    "g = g.set_ylabel(\"Exited Probability\")"
   ]
  },
  {
   "cell_type": "markdown",
   "metadata": {},
   "source": [
    "女性離開的機率較男性來得大。"
   ]
  },
  {
   "cell_type": "markdown",
   "metadata": {},
   "source": [
    "#### NumOfProducts"
   ]
  },
  {
   "cell_type": "code",
   "execution_count": 17,
   "metadata": {},
   "outputs": [
    {
     "data": {
      "image/png": "[encoded data removed]",
      "text/plain": [
       "<Figure size 432x432 with 1 Axes>"
      ]
     },
     "metadata": {},
     "output_type": "display_data"
    }
   ],
   "source": [
    "g = sns.factorplot(x=\"NumOfProducts\",y=\"Exited\",data=train,kind=\"bar\", size = 6 , \n",
    "palette = \"muted\")\n",
    "g.despine(left=True)\n",
    "g = g.set_ylabels(\"exited probability\")"
   ]
  },
  {
   "cell_type": "markdown",
   "metadata": {},
   "source": [
    "擁有不同產品數量的顧客離開的機率具有差異。需注意的是，持有1~2項產品的顧客人數是遠大於持有3~4項產品的顧客人數的："
   ]
  },
  {
   "cell_type": "code",
   "execution_count": 18,
   "metadata": {},
   "outputs": [
    {
     "data": {
      "image/png": "[encoded data removed]",
      "text/plain": [
       "<Figure size 864x432 with 2 Axes>"
      ]
     },
     "metadata": {},
     "output_type": "display_data"
    }
   ],
   "source": [
    "g = sns.factorplot(\"NumOfProducts\", col=\"Exited\",  data=train,\n",
    "                   size=6, kind=\"count\", palette=\"muted\")\n",
    "g.despine(left=True)\n",
    "g = g.set_ylabels(\"Count\")"
   ]
  },
  {
   "cell_type": "markdown",
   "metadata": {},
   "source": [
    "#### CreditScore"
   ]
  },
  {
   "cell_type": "code",
   "execution_count": 19,
   "metadata": {},
   "outputs": [
    {
     "data": {
      "image/png": "[encoded data removed]",
      "text/plain": [
       "<Figure size 432x216 with 2 Axes>"
      ]
     },
     "metadata": {},
     "output_type": "display_data"
    }
   ],
   "source": [
    "g = sns.FacetGrid(train, col='Exited')\n",
    "g = g.map(sns.distplot, \"CreditScore\")"
   ]
  },
  {
   "cell_type": "code",
   "execution_count": 20,
   "metadata": {},
   "outputs": [
    {
     "data": {
      "image/png": "[encoded data removed]",
      "text/plain": [
       "<Figure size 432x288 with 1 Axes>"
      ]
     },
     "metadata": {},
     "output_type": "display_data"
    }
   ],
   "source": [
    "g = sns.kdeplot(train[\"CreditScore\"][(train[\"Exited\"] == 0) & (train[\"CreditScore\"].notnull())], color=\"Blue\", shade = True)\n",
    "g = sns.kdeplot(train[\"CreditScore\"][(train[\"Exited\"] == 1) & (train[\"CreditScore\"].notnull())], ax =g, color=\"Red\", shade= True)\n",
    "g.set_xlabel(\"CreditScore\")\n",
    "g.set_ylabel(\"Frequency\")\n",
    "g = g.legend([\"Not Exited\",\"Exied\"])"
   ]
  },
  {
   "cell_type": "markdown",
   "metadata": {},
   "source": [
    "#### Tenure"
   ]
  },
  {
   "cell_type": "code",
   "execution_count": 21,
   "metadata": {},
   "outputs": [
    {
     "data": {
      "image/png": "[encoded data removed]",
      "text/plain": [
       "<Figure size 432x432 with 1 Axes>"
      ]
     },
     "metadata": {},
     "output_type": "display_data"
    }
   ],
   "source": [
    "g = sns.factorplot(x=\"Tenure\",y=\"Exited\",data=train,kind=\"bar\", size = 6 , \n",
    "palette = \"muted\")\n",
    "g.despine(left=True)\n",
    "g = g.set_ylabels(\"exited probability\")"
   ]
  },
  {
   "cell_type": "markdown",
   "metadata": {},
   "source": [
    "#### EstimatedSalary"
   ]
  },
  {
   "cell_type": "code",
   "execution_count": 22,
   "metadata": {},
   "outputs": [
    {
     "data": {
      "image/png": "[encoded data removed]",
      "text/plain": [
       "<Figure size 432x216 with 2 Axes>"
      ]
     },
     "metadata": {},
     "output_type": "display_data"
    }
   ],
   "source": [
    "g = sns.FacetGrid(train, col='Exited')\n",
    "g = g.map(sns.distplot, \"EstimatedSalary\")"
   ]
  },
  {
   "cell_type": "code",
   "execution_count": 23,
   "metadata": {},
   "outputs": [
    {
     "data": {
      "image/png": "[encoded data removed]",
      "text/plain": [
       "<Figure size 432x288 with 1 Axes>"
      ]
     },
     "metadata": {},
     "output_type": "display_data"
    }
   ],
   "source": [
    "g = sns.kdeplot(train[\"EstimatedSalary\"][(train[\"Exited\"] == 0) & (train[\"EstimatedSalary\"].notnull())], color=\"Blue\", shade = True)\n",
    "g = sns.kdeplot(train[\"EstimatedSalary\"][(train[\"Exited\"] == 1) & (train[\"EstimatedSalary\"].notnull())], ax =g, color=\"Red\", shade= True)\n",
    "g.set_xlabel(\"EstimatedSalary\")\n",
    "g.set_ylabel(\"Frequency\")\n",
    "g = g.legend([\"Not Exited\",\"Exied\"])"
   ]
  },
  {
   "cell_type": "markdown",
   "metadata": {},
   "source": [
    "#### HasCrCard"
   ]
  },
  {
   "cell_type": "code",
   "execution_count": 24,
   "metadata": {
    "scrolled": true
   },
   "outputs": [
    {
     "data": {
      "image/png": "[encoded data removed]",
      "text/plain": [
       "<Figure size 432x288 with 1 Axes>"
      ]
     },
     "metadata": {},
     "output_type": "display_data"
    }
   ],
   "source": [
    "g = sns.barplot(x=\"HasCrCard\",y=\"Exited\",data=train)\n",
    "g = g.set_ylabel(\"Exited Probability\")"
   ]
  },
  {
   "cell_type": "markdown",
   "metadata": {},
   "source": [
    "### 3.4 嘗試過但在這裡沒有使用的資料處理方式\n",
    "#### 1. 放棄較不重要的特徵\n",
    "　　雖然從上面的分析看來，後面的幾項特徵其實是看不出太大差異的，或許是可以考慮不使用，但基於先前經驗，我們認為放進去還是會對於預測有些微的幫助，因此我們保留了所有特徵。\n",
    "#### 2. Standardize\n",
    "　　基於我們最後所使用的所有模型皆是以決策樹為基礎，對於Scale的大小較不敏感，因此我們也省略此步驟沒有將資料進行標準化。\n",
    "#### 3. PCA\n",
    "　　我們有在這個模型中嘗試過，但效果不佳。"
   ]
  },
  {
   "cell_type": "markdown",
   "metadata": {},
   "source": [
    "## 4. 預測訓練模型\n",
    "　　理想情況下，我們若能將Precision維持在1，同時得到0.875的Accuracy，即使F1 Score將僅有0.55，最終結果分數仍會比我們原本的分數高出許多。但這樣的情況實際上卻很難實現(條件太嚴格使得很難找到足夠多的1)，因此我們勢必要放棄一定的Precision來使Recall及Accuracy能到達一定水準。我們透過不斷的嘗試，調整每個分類模型分類為1的臨界點，以及最終判定為1的所需的票數，依據train test split測試集獲得Final Score分數的高低來找出較為合適的參數設定。\n",
    "\n",
    "### 4.1 符合需求的衡量函式\n",
    "我們直接將我們想知道的衡量指標寫成一個簡單的函式，以方便使用。"
   ]
  },
  {
   "cell_type": "code",
   "execution_count": 25,
   "metadata": {},
   "outputs": [],
   "source": [
    "# Function to help us evaluating our model performance\n",
    "def evaluate_y_te(array,boundary=0.5):\n",
    "    df = pd.DataFrame(array).iloc[:,1]\n",
    "    count_wrong0 = 0\n",
    "    count_wrong1 = 0\n",
    "    count_true0 = 0\n",
    "    count_true1 = 0\n",
    "    prediction = []\n",
    "    for i in range(len(y_te)):\n",
    "        p = 1 if df.iat[i] > boundary else 0\n",
    "        prediction.append(p)\n",
    "        if p-y_te.iat[i] != 0:\n",
    "            if p == 1:\n",
    "                count_wrong1 += 1\n",
    "            else:\n",
    "                count_wrong0 += 1\n",
    "        else:\n",
    "            if p == 0:\n",
    "                count_true0 += 1\n",
    "            else:\n",
    "                count_true1 += 1\n",
    "    acc = 1-((count_wrong1+count_wrong0)/len(y_te))\n",
    "    pre = count_true1/(count_wrong1+count_true1)\n",
    "    recall = count_true1/sum(y_te)\n",
    "    f1 = (2*pre*recall)/(pre+recall)\n",
    "    print('Accuracy:',acc)\n",
    "    print('Precision:',pre)\n",
    "    print('F-score:',f1)\n",
    "    print('Final:',0.4*f1+0.3*(acc+pre))\n",
    "    print('Number of 1s:',count_true1+count_wrong1)\n",
    "    return prediction"
   ]
  },
  {
   "cell_type": "markdown",
   "metadata": {},
   "source": [
    "### 4.2 從調整參數到訓練模型\n",
    "#### CatBoost\n",
    "CatBoost本身就可以處理類別資料，這裡我們是直接把沒有處理過的資料丟進去。"
   ]
  },
  {
   "cell_type": "code",
   "execution_count": 26,
   "metadata": {},
   "outputs": [
    {
     "data": {
      "text/html": [
       "<div>\n",
       "<style scoped>\n",
       "    .dataframe tbody tr th:only-of-type {\n",
       "        vertical-align: middle;\n",
       "    }\n",
       "\n",
       "    .dataframe tbody tr th {\n",
       "        vertical-align: top;\n",
       "    }\n",
       "\n",
       "    .dataframe thead th {\n",
       "        text-align: right;\n",
       "    }\n",
       "</style>\n",
       "<table border=\"1\" class=\"dataframe\">\n",
       "  <thead>\n",
       "    <tr style=\"text-align: right;\">\n",
       "      <th></th>\n",
       "      <th>CreditScore</th>\n",
       "      <th>Geography</th>\n",
       "      <th>Gender</th>\n",
       "      <th>Age</th>\n",
       "      <th>Tenure</th>\n",
       "      <th>Balance</th>\n",
       "      <th>NumOfProducts</th>\n",
       "      <th>HasCrCard</th>\n",
       "      <th>IsActiveMember</th>\n",
       "      <th>EstimatedSalary</th>\n",
       "    </tr>\n",
       "  </thead>\n",
       "  <tbody>\n",
       "    <tr>\n",
       "      <th>0</th>\n",
       "      <td>720</td>\n",
       "      <td>S2</td>\n",
       "      <td>Male</td>\n",
       "      <td>38</td>\n",
       "      <td>5</td>\n",
       "      <td>114051.97</td>\n",
       "      <td>2</td>\n",
       "      <td>0</td>\n",
       "      <td>1</td>\n",
       "      <td>107577.29</td>\n",
       "    </tr>\n",
       "    <tr>\n",
       "      <th>1</th>\n",
       "      <td>682</td>\n",
       "      <td>S0</td>\n",
       "      <td>Female</td>\n",
       "      <td>54</td>\n",
       "      <td>4</td>\n",
       "      <td>62397.41</td>\n",
       "      <td>1</td>\n",
       "      <td>1</td>\n",
       "      <td>0</td>\n",
       "      <td>113088.60</td>\n",
       "    </tr>\n",
       "    <tr>\n",
       "      <th>2</th>\n",
       "      <td>672</td>\n",
       "      <td>S0</td>\n",
       "      <td>Female</td>\n",
       "      <td>31</td>\n",
       "      <td>5</td>\n",
       "      <td>119903.67</td>\n",
       "      <td>1</td>\n",
       "      <td>1</td>\n",
       "      <td>1</td>\n",
       "      <td>132925.17</td>\n",
       "    </tr>\n",
       "  </tbody>\n",
       "</table>\n",
       "</div>"
      ],
      "text/plain": [
       "   CreditScore Geography  Gender  Age  Tenure    Balance  NumOfProducts  \\\n",
       "0          720        S2    Male   38       5  114051.97              2   \n",
       "1          682        S0  Female   54       4   62397.41              1   \n",
       "2          672        S0  Female   31       5  119903.67              1   \n",
       "\n",
       "   HasCrCard  IsActiveMember  EstimatedSalary  \n",
       "0          0               1        107577.29  \n",
       "1          1               0        113088.60  \n",
       "2          1               1        132925.17  "
      ]
     },
     "execution_count": 26,
     "metadata": {},
     "output_type": "execute_result"
    }
   ],
   "source": [
    "train = pd.read_csv('train.csv')\n",
    "test = pd.read_csv('test.csv')\n",
    "train.drop(['Unnamed: 0', 'RowNumber', 'CustomerId', 'Surname'], axis=1, inplace=True)\n",
    "RowNumber = test['RowNumber']\n",
    "test.drop(['Unnamed: 0', 'RowNumber', 'CustomerId', 'Surname'], axis=1, inplace=True)\n",
    "\n",
    "X_train = train.drop('Exited',axis=1)\n",
    "y_train = train.Exited\n",
    "X_test = test\n",
    "\n",
    "random_state = 95 ## here\n",
    "x_tr, x_te, y_tr, y_te = train_test_split(X_train, y_train, test_size=0.2, random_state=random_state)\n",
    "X_train.head(3)"
   ]
  },
  {
   "cell_type": "markdown",
   "metadata": {},
   "source": [
    "這裡我們使用了兩個不同參數的CatBoost。"
   ]
  },
  {
   "cell_type": "code",
   "execution_count": 27,
   "metadata": {
    "scrolled": true
   },
   "outputs": [
    {
     "data": {
      "text/plain": [
       "181"
      ]
     },
     "execution_count": 27,
     "metadata": {},
     "output_type": "execute_result"
    }
   ],
   "source": [
    "# 1\n",
    "# My best classifier sofar\n",
    "clf1 = CatBoostClassifier(cat_features=[1,2,7,8],ignored_features=[4],silent=True)\n",
    "clf1.fit(X_train,y_train)\n",
    "clf1.shrink(845,10)\n",
    "P = clf1.predict_proba(X_test)\n",
    "#prediction_CatBoost = evaluate_y_te(P,boundary=0.88)\n",
    "prediction_CatBoost = []\n",
    "for i in P:\n",
    "    if i[1]>0.68:\n",
    "        prediction_CatBoost.append(1)\n",
    "    else:\n",
    "        prediction_CatBoost.append(0)\n",
    "sum(prediction_CatBoost)"
   ]
  },
  {
   "cell_type": "code",
   "execution_count": 28,
   "metadata": {},
   "outputs": [
    {
     "data": {
      "text/plain": [
       "114"
      ]
     },
     "execution_count": 28,
     "metadata": {},
     "output_type": "execute_result"
    }
   ],
   "source": [
    "# 2\n",
    "clf2 = CatBoostClassifier(cat_features=[1,2,7,8],silent=True)\n",
    "clf2.fit(X_train,y_train)\n",
    "P = clf2.predict_proba(X_test)\n",
    "#prediction_CatBoost2 = evaluate_y_te(P,boundary=0.7)\n",
    "prediction_CatBoost2 = []\n",
    "for i in P:\n",
    "    if i[1]>0.8:\n",
    "        prediction_CatBoost2.append(1)\n",
    "    else:\n",
    "        prediction_CatBoost2.append(0)\n",
    "sum(prediction_CatBoost2)"
   ]
  },
  {
   "cell_type": "markdown",
   "metadata": {},
   "source": [
    "### 再次處理資料 \n",
    "對於CatBoost以外的分類模型，我們則要給予處理過的資料。"
   ]
  },
  {
   "cell_type": "code",
   "execution_count": 29,
   "metadata": {},
   "outputs": [
    {
     "data": {
      "text/html": [
       "<div>\n",
       "<style scoped>\n",
       "    .dataframe tbody tr th:only-of-type {\n",
       "        vertical-align: middle;\n",
       "    }\n",
       "\n",
       "    .dataframe tbody tr th {\n",
       "        vertical-align: top;\n",
       "    }\n",
       "\n",
       "    .dataframe thead th {\n",
       "        text-align: right;\n",
       "    }\n",
       "</style>\n",
       "<table border=\"1\" class=\"dataframe\">\n",
       "  <thead>\n",
       "    <tr style=\"text-align: right;\">\n",
       "      <th></th>\n",
       "      <th>CreditScore</th>\n",
       "      <th>Gender</th>\n",
       "      <th>Age</th>\n",
       "      <th>Tenure</th>\n",
       "      <th>Balance</th>\n",
       "      <th>NumOfProducts</th>\n",
       "      <th>HasCrCard</th>\n",
       "      <th>IsActiveMember</th>\n",
       "      <th>EstimatedSalary</th>\n",
       "      <th>Geo_S0</th>\n",
       "      <th>Geo_S1</th>\n",
       "    </tr>\n",
       "  </thead>\n",
       "  <tbody>\n",
       "    <tr>\n",
       "      <th>0</th>\n",
       "      <td>720</td>\n",
       "      <td>0</td>\n",
       "      <td>38</td>\n",
       "      <td>5</td>\n",
       "      <td>114051.97</td>\n",
       "      <td>2</td>\n",
       "      <td>0</td>\n",
       "      <td>1</td>\n",
       "      <td>107577.29</td>\n",
       "      <td>0</td>\n",
       "      <td>0</td>\n",
       "    </tr>\n",
       "    <tr>\n",
       "      <th>1</th>\n",
       "      <td>682</td>\n",
       "      <td>1</td>\n",
       "      <td>54</td>\n",
       "      <td>4</td>\n",
       "      <td>62397.41</td>\n",
       "      <td>1</td>\n",
       "      <td>1</td>\n",
       "      <td>0</td>\n",
       "      <td>113088.60</td>\n",
       "      <td>1</td>\n",
       "      <td>0</td>\n",
       "    </tr>\n",
       "    <tr>\n",
       "      <th>2</th>\n",
       "      <td>672</td>\n",
       "      <td>1</td>\n",
       "      <td>31</td>\n",
       "      <td>5</td>\n",
       "      <td>119903.67</td>\n",
       "      <td>1</td>\n",
       "      <td>1</td>\n",
       "      <td>1</td>\n",
       "      <td>132925.17</td>\n",
       "      <td>1</td>\n",
       "      <td>0</td>\n",
       "    </tr>\n",
       "  </tbody>\n",
       "</table>\n",
       "</div>"
      ],
      "text/plain": [
       "   CreditScore  Gender  Age  Tenure    Balance  NumOfProducts  HasCrCard  \\\n",
       "0          720       0   38       5  114051.97              2          0   \n",
       "1          682       1   54       4   62397.41              1          1   \n",
       "2          672       1   31       5  119903.67              1          1   \n",
       "\n",
       "   IsActiveMember  EstimatedSalary  Geo_S0  Geo_S1  \n",
       "0               1        107577.29       0       0  \n",
       "1               0        113088.60       1       0  \n",
       "2               1        132925.17       1       0  "
      ]
     },
     "execution_count": 29,
     "metadata": {},
     "output_type": "execute_result"
    }
   ],
   "source": [
    "train = pd.read_csv('train.csv')\n",
    "test = pd.read_csv('test.csv')\n",
    "train.drop(['Unnamed: 0', 'RowNumber', 'CustomerId', 'Surname'], axis=1, inplace=True)\n",
    "RowNumber = test['RowNumber']\n",
    "test.drop(['Unnamed: 0', 'RowNumber', 'CustomerId', 'Surname'], axis=1, inplace=True)\n",
    "\n",
    "X_train = train.drop('Exited',axis=1)\n",
    "y_train = train.Exited\n",
    "X_test = test\n",
    "\n",
    "X_train[\"Gender\"] = X_train[\"Gender\"].map({\"Male\": 0, \"Female\":1})\n",
    "X_test[\"Gender\"] = X_test[\"Gender\"].map({\"Male\": 0, \"Female\":1})\n",
    "\n",
    "X_train = pd.get_dummies(X_train, columns=[\"Geography\"],prefix=\"Geo\")\n",
    "X_test = pd.get_dummies(X_test, columns=[\"Geography\"],prefix=\"Geo\")\n",
    "\n",
    "X_train.drop('Geo_S2',axis=1,inplace=True)\n",
    "X_test.drop('Geo_S2',axis=1,inplace=True)\n",
    "\n",
    "x_tr, x_te, y_tr, y_te = train_test_split(X_train, y_train, test_size=0.2, random_state=random_state)\n",
    "X_train.head(3)"
   ]
  },
  {
   "cell_type": "markdown",
   "metadata": {},
   "source": [
    "#### XGB, LGBM, GB, RF\n",
    "　　因模型在建構時並沒有太完整的規劃，因此排列較不整齊，以下總共使用了兩個XGBoost、兩個LightGBM、兩個GradientBoostClassifier，以及一個RandomForest。"
   ]
  },
  {
   "cell_type": "code",
   "execution_count": 30,
   "metadata": {},
   "outputs": [
    {
     "data": {
      "text/plain": [
       "159"
      ]
     },
     "execution_count": 30,
     "metadata": {},
     "output_type": "execute_result"
    }
   ],
   "source": [
    "# 3\n",
    "clf3 = xgb.XGBClassifier()\n",
    "clf3.fit(X_train,y_train)\n",
    "P = clf3.predict_proba(X_test)\n",
    "#prediction_XGBoost = evaluate_y_te(P,boundary=0.55)\n",
    "prediction_XGBoost = []\n",
    "for i in P:\n",
    "    if i[1]>0.68:\n",
    "        prediction_XGBoost.append(1)\n",
    "    else:\n",
    "        prediction_XGBoost.append(0)\n",
    "sum(prediction_XGBoost)"
   ]
  },
  {
   "cell_type": "code",
   "execution_count": 31,
   "metadata": {},
   "outputs": [
    {
     "data": {
      "text/plain": [
       "201"
      ]
     },
     "execution_count": 31,
     "metadata": {},
     "output_type": "execute_result"
    }
   ],
   "source": [
    "# 4\n",
    "clf4 = xgb.XGBClassifier(max_depth = 12,random_state=7,n_estimators=100,min_child_weight = 3\n",
    "                          ,colsample_bytree = 0.75, subsample= 0.8)\n",
    "clf4.fit(X_train,y_train)\n",
    "P = clf4.predict_proba(X_test)\n",
    "#prediction_XGBoost_tuned = evaluate_y_te(P,boundary=0.68)\n",
    "prediction_XGBoost_tuned = []\n",
    "for i in P:\n",
    "    if i[1]>0.68:\n",
    "        prediction_XGBoost_tuned.append(1)\n",
    "    else:\n",
    "        prediction_XGBoost_tuned.append(0)\n",
    "sum(prediction_XGBoost_tuned)"
   ]
  },
  {
   "cell_type": "code",
   "execution_count": 32,
   "metadata": {},
   "outputs": [
    {
     "data": {
      "text/plain": [
       "194"
      ]
     },
     "execution_count": 32,
     "metadata": {},
     "output_type": "execute_result"
    }
   ],
   "source": [
    "# 5\n",
    "clf5 = LGBMClassifier()\n",
    "clf5.fit(X_train,y_train)\n",
    "P = clf5.predict_proba(X_test)\n",
    "#prediction_LGBM = evaluate_y_te(P,boundary=0.5)\n",
    "prediction_LGBM = []\n",
    "for i in P:\n",
    "    if i[1]>0.68:\n",
    "        prediction_LGBM.append(1)\n",
    "    else:\n",
    "        prediction_LGBM.append(0)\n",
    "sum(prediction_LGBM)"
   ]
  },
  {
   "cell_type": "code",
   "execution_count": 33,
   "metadata": {},
   "outputs": [
    {
     "data": {
      "text/plain": [
       "165"
      ]
     },
     "execution_count": 33,
     "metadata": {},
     "output_type": "execute_result"
    }
   ],
   "source": [
    "# 6\n",
    "clf6 = GradientBoostingClassifier()\n",
    "clf6.fit(X_train,y_train)\n",
    "P = clf6.predict_proba(X_test)\n",
    "#prediction_GBDT = evaluate_y_te(P,boundary=0.5)\n",
    "prediction_GBDT = []\n",
    "for i in P:\n",
    "    if i[1]>0.68:\n",
    "        prediction_GBDT.append(1)\n",
    "    else:\n",
    "        prediction_GBDT.append(0)\n",
    "sum(prediction_GBDT)"
   ]
  },
  {
   "cell_type": "code",
   "execution_count": 34,
   "metadata": {},
   "outputs": [
    {
     "data": {
      "text/plain": [
       "65"
      ]
     },
     "execution_count": 34,
     "metadata": {},
     "output_type": "execute_result"
    }
   ],
   "source": [
    "# 7\n",
    "clf7 = RandomForestClassifier(n_jobs=-1,n_estimators=1000,max_depth=10,min_samples_leaf=2)\n",
    "clf7.fit(X_train,y_train)\n",
    "P = clf7.predict_proba(X_test)\n",
    "#prediction_RF = evaluate_y_te(P,boundary=0.5)\n",
    "prediction_RF = []\n",
    "for i in P:\n",
    "    if i[1]>0.8:\n",
    "        prediction_RF.append(1)\n",
    "    else:\n",
    "        prediction_RF.append(0)\n",
    "sum(prediction_RF)"
   ]
  },
  {
   "cell_type": "code",
   "execution_count": 35,
   "metadata": {},
   "outputs": [
    {
     "data": {
      "text/plain": [
       "172"
      ]
     },
     "execution_count": 35,
     "metadata": {},
     "output_type": "execute_result"
    }
   ],
   "source": [
    "# 8\n",
    "params = {'boosting_type': 'gbdt', 'colsample_bytree': 0.65, 'learning_rate': 0.1, 'n_estimators': 100,\n",
    " 'num_leaves': 12, 'objective': 'binary', 'random_state': 501, 'reg_alpha': 1.2, 'reg_lambda': 1.4, 'subsample': 0.7}\n",
    "clf8 = LGBMClassifier(**params)\n",
    "clf8.fit(X_train,y_train)\n",
    "P = clf8.predict_proba(X_test)\n",
    "#prediction_LGBM = evaluate_y_te(P,boundary=0.5)\n",
    "prediction_LGBM2 = []\n",
    "for i in P:\n",
    "    if i[1]>0.68:\n",
    "        prediction_LGBM2.append(1)\n",
    "    else:\n",
    "        prediction_LGBM2.append(0)\n",
    "sum(prediction_LGBM2)"
   ]
  },
  {
   "cell_type": "code",
   "execution_count": 44,
   "metadata": {},
   "outputs": [
    {
     "data": {
      "text/plain": [
       "195"
      ]
     },
     "execution_count": 44,
     "metadata": {},
     "output_type": "execute_result"
    }
   ],
   "source": [
    "# 9\n",
    "params = {'learning_rate': 0.1, 'max_features': 0.8, 'min_samples_leaf': 1, 'n_estimators': 250, 'subsample': 0.7}\n",
    "clf9 = GradientBoostingClassifier(**params) #We took off random_state\n",
    "clf9.fit(X_train,y_train)\n",
    "P = clf9.predict_proba(X_test)\n",
    "#prediction_GBDT = evaluate_y_te(P,boundary=0.5)\n",
    "prediction_GBDT2 = []\n",
    "for i in P:\n",
    "    if i[1]>0.68:\n",
    "        prediction_GBDT2.append(1)\n",
    "    else:\n",
    "        prediction_GBDT2.append(0)\n",
    "sum(prediction_GBDT2)"
   ]
  },
  {
   "cell_type": "markdown",
   "metadata": {},
   "source": [
    "- 以下則是我們在建構模型時的工作區，一個用於找Classifier的參數，另一則為尋找已建構出的模型之適當分類界線："
   ]
  },
  {
   "cell_type": "code",
   "execution_count": 37,
   "metadata": {},
   "outputs": [
    {
     "name": "stdout",
     "output_type": "stream",
     "text": [
      "{'learning_rate': 0.05, 'max_features': 0.5, 'min_samples_leaf': 1, 'n_estimators': 250, 'subsample': 0.75}\n",
      "0.864625\n"
     ]
    }
   ],
   "source": [
    "# param grid to create new classifier\n",
    "# Do not run this cell\n",
    "\n",
    "mdl = GradientBoostingClassifier()\n",
    "gridParams = {\n",
    "    'learning_rate': [0.03,0.05,0.1,0.2],\n",
    "    'n_estimators': [40,100,250,500],\n",
    "    'min_samples_leaf' : [1,3],\n",
    "    'subsample' : [0.7,0.75],\n",
    "    'max_features' : [0.5,0.8,1]\n",
    "\n",
    "    }\n",
    "\n",
    "# Create the grid\n",
    "grid = GridSearchCV(mdl, gridParams,\n",
    "                    verbose=0,\n",
    "                    cv=4,\n",
    "                    n_jobs=2)\n",
    "# Run the grid\n",
    "grid.fit(X_train, y_train)\n",
    "\n",
    "# Print the best parameters found\n",
    "print(grid.best_params_)\n",
    "print(grid.best_score_)"
   ]
  },
  {
   "cell_type": "code",
   "execution_count": 38,
   "metadata": {
    "scrolled": true
   },
   "outputs": [
    {
     "name": "stdout",
     "output_type": "stream",
     "text": [
      "Accuracy: 0.85\n",
      "Precision: 0.905511811023622\n",
      "F-score: 0.4893617021276596\n",
      "Final: 0.7223982241581505\n",
      "Number of 1s: 127\n"
     ]
    }
   ],
   "source": [
    "# test here\n",
    "# Do not run this cell\n",
    "\n",
    "clf = clf3\n",
    "clf.fit(x_tr,y_tr)\n",
    "P = clf.predict_proba(x_te)\n",
    "a = evaluate_y_te(P,boundary=0.68)"
   ]
  },
  {
   "cell_type": "markdown",
   "metadata": {},
   "source": [
    "### 4.3 將結果合併"
   ]
  },
  {
   "cell_type": "code",
   "execution_count": 45,
   "metadata": {
    "scrolled": true
   },
   "outputs": [
    {
     "data": {
      "text/html": [
       "<div>\n",
       "<style scoped>\n",
       "    .dataframe tbody tr th:only-of-type {\n",
       "        vertical-align: middle;\n",
       "    }\n",
       "\n",
       "    .dataframe tbody tr th {\n",
       "        vertical-align: top;\n",
       "    }\n",
       "\n",
       "    .dataframe thead th {\n",
       "        text-align: right;\n",
       "    }\n",
       "</style>\n",
       "<table border=\"1\" class=\"dataframe\">\n",
       "  <thead>\n",
       "    <tr style=\"text-align: right;\">\n",
       "      <th></th>\n",
       "      <th>CatBoost</th>\n",
       "      <th>CatBoost2</th>\n",
       "      <th>XGBoost</th>\n",
       "      <th>XGBoost2</th>\n",
       "      <th>LGBM</th>\n",
       "      <th>LGBM2</th>\n",
       "      <th>GBDT</th>\n",
       "      <th>GBDT2</th>\n",
       "      <th>RandomForest</th>\n",
       "      <th>Sum</th>\n",
       "    </tr>\n",
       "  </thead>\n",
       "  <tbody>\n",
       "    <tr>\n",
       "      <th>0</th>\n",
       "      <td>0</td>\n",
       "      <td>0</td>\n",
       "      <td>0</td>\n",
       "      <td>0</td>\n",
       "      <td>0</td>\n",
       "      <td>0</td>\n",
       "      <td>0</td>\n",
       "      <td>0</td>\n",
       "      <td>0</td>\n",
       "      <td>0</td>\n",
       "    </tr>\n",
       "    <tr>\n",
       "      <th>1</th>\n",
       "      <td>0</td>\n",
       "      <td>0</td>\n",
       "      <td>0</td>\n",
       "      <td>0</td>\n",
       "      <td>0</td>\n",
       "      <td>0</td>\n",
       "      <td>0</td>\n",
       "      <td>0</td>\n",
       "      <td>0</td>\n",
       "      <td>0</td>\n",
       "    </tr>\n",
       "    <tr>\n",
       "      <th>2</th>\n",
       "      <td>0</td>\n",
       "      <td>0</td>\n",
       "      <td>0</td>\n",
       "      <td>0</td>\n",
       "      <td>0</td>\n",
       "      <td>0</td>\n",
       "      <td>0</td>\n",
       "      <td>0</td>\n",
       "      <td>0</td>\n",
       "      <td>0</td>\n",
       "    </tr>\n",
       "    <tr>\n",
       "      <th>3</th>\n",
       "      <td>0</td>\n",
       "      <td>0</td>\n",
       "      <td>0</td>\n",
       "      <td>0</td>\n",
       "      <td>0</td>\n",
       "      <td>0</td>\n",
       "      <td>0</td>\n",
       "      <td>0</td>\n",
       "      <td>0</td>\n",
       "      <td>0</td>\n",
       "    </tr>\n",
       "    <tr>\n",
       "      <th>4</th>\n",
       "      <td>0</td>\n",
       "      <td>0</td>\n",
       "      <td>0</td>\n",
       "      <td>0</td>\n",
       "      <td>0</td>\n",
       "      <td>0</td>\n",
       "      <td>0</td>\n",
       "      <td>0</td>\n",
       "      <td>0</td>\n",
       "      <td>0</td>\n",
       "    </tr>\n",
       "    <tr>\n",
       "      <th>5</th>\n",
       "      <td>0</td>\n",
       "      <td>0</td>\n",
       "      <td>0</td>\n",
       "      <td>0</td>\n",
       "      <td>0</td>\n",
       "      <td>0</td>\n",
       "      <td>0</td>\n",
       "      <td>0</td>\n",
       "      <td>0</td>\n",
       "      <td>0</td>\n",
       "    </tr>\n",
       "    <tr>\n",
       "      <th>6</th>\n",
       "      <td>0</td>\n",
       "      <td>0</td>\n",
       "      <td>0</td>\n",
       "      <td>0</td>\n",
       "      <td>0</td>\n",
       "      <td>0</td>\n",
       "      <td>0</td>\n",
       "      <td>0</td>\n",
       "      <td>0</td>\n",
       "      <td>0</td>\n",
       "    </tr>\n",
       "    <tr>\n",
       "      <th>7</th>\n",
       "      <td>0</td>\n",
       "      <td>0</td>\n",
       "      <td>0</td>\n",
       "      <td>0</td>\n",
       "      <td>0</td>\n",
       "      <td>0</td>\n",
       "      <td>0</td>\n",
       "      <td>0</td>\n",
       "      <td>0</td>\n",
       "      <td>0</td>\n",
       "    </tr>\n",
       "    <tr>\n",
       "      <th>8</th>\n",
       "      <td>0</td>\n",
       "      <td>0</td>\n",
       "      <td>0</td>\n",
       "      <td>0</td>\n",
       "      <td>0</td>\n",
       "      <td>0</td>\n",
       "      <td>0</td>\n",
       "      <td>0</td>\n",
       "      <td>0</td>\n",
       "      <td>0</td>\n",
       "    </tr>\n",
       "    <tr>\n",
       "      <th>9</th>\n",
       "      <td>0</td>\n",
       "      <td>0</td>\n",
       "      <td>0</td>\n",
       "      <td>0</td>\n",
       "      <td>0</td>\n",
       "      <td>0</td>\n",
       "      <td>0</td>\n",
       "      <td>0</td>\n",
       "      <td>0</td>\n",
       "      <td>0</td>\n",
       "    </tr>\n",
       "    <tr>\n",
       "      <th>10</th>\n",
       "      <td>0</td>\n",
       "      <td>0</td>\n",
       "      <td>0</td>\n",
       "      <td>0</td>\n",
       "      <td>0</td>\n",
       "      <td>0</td>\n",
       "      <td>0</td>\n",
       "      <td>0</td>\n",
       "      <td>0</td>\n",
       "      <td>0</td>\n",
       "    </tr>\n",
       "    <tr>\n",
       "      <th>11</th>\n",
       "      <td>0</td>\n",
       "      <td>0</td>\n",
       "      <td>0</td>\n",
       "      <td>0</td>\n",
       "      <td>0</td>\n",
       "      <td>0</td>\n",
       "      <td>0</td>\n",
       "      <td>0</td>\n",
       "      <td>0</td>\n",
       "      <td>0</td>\n",
       "    </tr>\n",
       "    <tr>\n",
       "      <th>12</th>\n",
       "      <td>0</td>\n",
       "      <td>0</td>\n",
       "      <td>0</td>\n",
       "      <td>0</td>\n",
       "      <td>0</td>\n",
       "      <td>0</td>\n",
       "      <td>0</td>\n",
       "      <td>0</td>\n",
       "      <td>0</td>\n",
       "      <td>0</td>\n",
       "    </tr>\n",
       "    <tr>\n",
       "      <th>13</th>\n",
       "      <td>0</td>\n",
       "      <td>0</td>\n",
       "      <td>0</td>\n",
       "      <td>0</td>\n",
       "      <td>0</td>\n",
       "      <td>0</td>\n",
       "      <td>0</td>\n",
       "      <td>0</td>\n",
       "      <td>0</td>\n",
       "      <td>0</td>\n",
       "    </tr>\n",
       "    <tr>\n",
       "      <th>14</th>\n",
       "      <td>0</td>\n",
       "      <td>0</td>\n",
       "      <td>0</td>\n",
       "      <td>0</td>\n",
       "      <td>0</td>\n",
       "      <td>0</td>\n",
       "      <td>0</td>\n",
       "      <td>0</td>\n",
       "      <td>0</td>\n",
       "      <td>0</td>\n",
       "    </tr>\n",
       "    <tr>\n",
       "      <th>15</th>\n",
       "      <td>1</td>\n",
       "      <td>0</td>\n",
       "      <td>0</td>\n",
       "      <td>0</td>\n",
       "      <td>1</td>\n",
       "      <td>1</td>\n",
       "      <td>0</td>\n",
       "      <td>1</td>\n",
       "      <td>0</td>\n",
       "      <td>4</td>\n",
       "    </tr>\n",
       "    <tr>\n",
       "      <th>16</th>\n",
       "      <td>0</td>\n",
       "      <td>0</td>\n",
       "      <td>0</td>\n",
       "      <td>0</td>\n",
       "      <td>0</td>\n",
       "      <td>0</td>\n",
       "      <td>0</td>\n",
       "      <td>0</td>\n",
       "      <td>0</td>\n",
       "      <td>0</td>\n",
       "    </tr>\n",
       "    <tr>\n",
       "      <th>17</th>\n",
       "      <td>0</td>\n",
       "      <td>0</td>\n",
       "      <td>0</td>\n",
       "      <td>0</td>\n",
       "      <td>0</td>\n",
       "      <td>0</td>\n",
       "      <td>0</td>\n",
       "      <td>0</td>\n",
       "      <td>0</td>\n",
       "      <td>0</td>\n",
       "    </tr>\n",
       "    <tr>\n",
       "      <th>18</th>\n",
       "      <td>0</td>\n",
       "      <td>0</td>\n",
       "      <td>0</td>\n",
       "      <td>0</td>\n",
       "      <td>0</td>\n",
       "      <td>0</td>\n",
       "      <td>0</td>\n",
       "      <td>0</td>\n",
       "      <td>0</td>\n",
       "      <td>0</td>\n",
       "    </tr>\n",
       "    <tr>\n",
       "      <th>19</th>\n",
       "      <td>0</td>\n",
       "      <td>0</td>\n",
       "      <td>0</td>\n",
       "      <td>0</td>\n",
       "      <td>0</td>\n",
       "      <td>0</td>\n",
       "      <td>0</td>\n",
       "      <td>0</td>\n",
       "      <td>0</td>\n",
       "      <td>0</td>\n",
       "    </tr>\n",
       "    <tr>\n",
       "      <th>20</th>\n",
       "      <td>0</td>\n",
       "      <td>0</td>\n",
       "      <td>0</td>\n",
       "      <td>0</td>\n",
       "      <td>0</td>\n",
       "      <td>0</td>\n",
       "      <td>0</td>\n",
       "      <td>0</td>\n",
       "      <td>0</td>\n",
       "      <td>0</td>\n",
       "    </tr>\n",
       "    <tr>\n",
       "      <th>21</th>\n",
       "      <td>0</td>\n",
       "      <td>0</td>\n",
       "      <td>0</td>\n",
       "      <td>0</td>\n",
       "      <td>0</td>\n",
       "      <td>0</td>\n",
       "      <td>0</td>\n",
       "      <td>0</td>\n",
       "      <td>0</td>\n",
       "      <td>0</td>\n",
       "    </tr>\n",
       "    <tr>\n",
       "      <th>22</th>\n",
       "      <td>0</td>\n",
       "      <td>0</td>\n",
       "      <td>0</td>\n",
       "      <td>0</td>\n",
       "      <td>0</td>\n",
       "      <td>0</td>\n",
       "      <td>0</td>\n",
       "      <td>0</td>\n",
       "      <td>0</td>\n",
       "      <td>0</td>\n",
       "    </tr>\n",
       "    <tr>\n",
       "      <th>23</th>\n",
       "      <td>0</td>\n",
       "      <td>0</td>\n",
       "      <td>0</td>\n",
       "      <td>0</td>\n",
       "      <td>0</td>\n",
       "      <td>0</td>\n",
       "      <td>0</td>\n",
       "      <td>0</td>\n",
       "      <td>0</td>\n",
       "      <td>0</td>\n",
       "    </tr>\n",
       "    <tr>\n",
       "      <th>24</th>\n",
       "      <td>0</td>\n",
       "      <td>0</td>\n",
       "      <td>0</td>\n",
       "      <td>0</td>\n",
       "      <td>0</td>\n",
       "      <td>0</td>\n",
       "      <td>0</td>\n",
       "      <td>0</td>\n",
       "      <td>0</td>\n",
       "      <td>0</td>\n",
       "    </tr>\n",
       "    <tr>\n",
       "      <th>25</th>\n",
       "      <td>0</td>\n",
       "      <td>0</td>\n",
       "      <td>0</td>\n",
       "      <td>0</td>\n",
       "      <td>0</td>\n",
       "      <td>0</td>\n",
       "      <td>0</td>\n",
       "      <td>0</td>\n",
       "      <td>0</td>\n",
       "      <td>0</td>\n",
       "    </tr>\n",
       "    <tr>\n",
       "      <th>26</th>\n",
       "      <td>0</td>\n",
       "      <td>0</td>\n",
       "      <td>0</td>\n",
       "      <td>0</td>\n",
       "      <td>0</td>\n",
       "      <td>0</td>\n",
       "      <td>0</td>\n",
       "      <td>0</td>\n",
       "      <td>0</td>\n",
       "      <td>0</td>\n",
       "    </tr>\n",
       "    <tr>\n",
       "      <th>27</th>\n",
       "      <td>0</td>\n",
       "      <td>0</td>\n",
       "      <td>0</td>\n",
       "      <td>0</td>\n",
       "      <td>0</td>\n",
       "      <td>0</td>\n",
       "      <td>0</td>\n",
       "      <td>0</td>\n",
       "      <td>0</td>\n",
       "      <td>0</td>\n",
       "    </tr>\n",
       "    <tr>\n",
       "      <th>28</th>\n",
       "      <td>0</td>\n",
       "      <td>0</td>\n",
       "      <td>0</td>\n",
       "      <td>0</td>\n",
       "      <td>0</td>\n",
       "      <td>0</td>\n",
       "      <td>0</td>\n",
       "      <td>0</td>\n",
       "      <td>0</td>\n",
       "      <td>0</td>\n",
       "    </tr>\n",
       "    <tr>\n",
       "      <th>29</th>\n",
       "      <td>1</td>\n",
       "      <td>1</td>\n",
       "      <td>1</td>\n",
       "      <td>1</td>\n",
       "      <td>1</td>\n",
       "      <td>0</td>\n",
       "      <td>1</td>\n",
       "      <td>1</td>\n",
       "      <td>0</td>\n",
       "      <td>7</td>\n",
       "    </tr>\n",
       "    <tr>\n",
       "      <th>...</th>\n",
       "      <td>...</td>\n",
       "      <td>...</td>\n",
       "      <td>...</td>\n",
       "      <td>...</td>\n",
       "      <td>...</td>\n",
       "      <td>...</td>\n",
       "      <td>...</td>\n",
       "      <td>...</td>\n",
       "      <td>...</td>\n",
       "      <td>...</td>\n",
       "    </tr>\n",
       "    <tr>\n",
       "      <th>1970</th>\n",
       "      <td>0</td>\n",
       "      <td>0</td>\n",
       "      <td>0</td>\n",
       "      <td>0</td>\n",
       "      <td>0</td>\n",
       "      <td>0</td>\n",
       "      <td>0</td>\n",
       "      <td>0</td>\n",
       "      <td>0</td>\n",
       "      <td>0</td>\n",
       "    </tr>\n",
       "    <tr>\n",
       "      <th>1971</th>\n",
       "      <td>1</td>\n",
       "      <td>1</td>\n",
       "      <td>1</td>\n",
       "      <td>1</td>\n",
       "      <td>1</td>\n",
       "      <td>1</td>\n",
       "      <td>1</td>\n",
       "      <td>1</td>\n",
       "      <td>1</td>\n",
       "      <td>9</td>\n",
       "    </tr>\n",
       "    <tr>\n",
       "      <th>1972</th>\n",
       "      <td>0</td>\n",
       "      <td>0</td>\n",
       "      <td>0</td>\n",
       "      <td>0</td>\n",
       "      <td>0</td>\n",
       "      <td>0</td>\n",
       "      <td>0</td>\n",
       "      <td>0</td>\n",
       "      <td>0</td>\n",
       "      <td>0</td>\n",
       "    </tr>\n",
       "    <tr>\n",
       "      <th>1973</th>\n",
       "      <td>0</td>\n",
       "      <td>0</td>\n",
       "      <td>0</td>\n",
       "      <td>0</td>\n",
       "      <td>0</td>\n",
       "      <td>0</td>\n",
       "      <td>0</td>\n",
       "      <td>0</td>\n",
       "      <td>0</td>\n",
       "      <td>0</td>\n",
       "    </tr>\n",
       "    <tr>\n",
       "      <th>1974</th>\n",
       "      <td>0</td>\n",
       "      <td>0</td>\n",
       "      <td>0</td>\n",
       "      <td>0</td>\n",
       "      <td>0</td>\n",
       "      <td>0</td>\n",
       "      <td>0</td>\n",
       "      <td>0</td>\n",
       "      <td>0</td>\n",
       "      <td>0</td>\n",
       "    </tr>\n",
       "    <tr>\n",
       "      <th>1975</th>\n",
       "      <td>0</td>\n",
       "      <td>0</td>\n",
       "      <td>0</td>\n",
       "      <td>0</td>\n",
       "      <td>0</td>\n",
       "      <td>0</td>\n",
       "      <td>0</td>\n",
       "      <td>0</td>\n",
       "      <td>0</td>\n",
       "      <td>0</td>\n",
       "    </tr>\n",
       "    <tr>\n",
       "      <th>1976</th>\n",
       "      <td>0</td>\n",
       "      <td>0</td>\n",
       "      <td>0</td>\n",
       "      <td>0</td>\n",
       "      <td>0</td>\n",
       "      <td>0</td>\n",
       "      <td>0</td>\n",
       "      <td>0</td>\n",
       "      <td>0</td>\n",
       "      <td>0</td>\n",
       "    </tr>\n",
       "    <tr>\n",
       "      <th>1977</th>\n",
       "      <td>0</td>\n",
       "      <td>0</td>\n",
       "      <td>0</td>\n",
       "      <td>0</td>\n",
       "      <td>0</td>\n",
       "      <td>0</td>\n",
       "      <td>0</td>\n",
       "      <td>0</td>\n",
       "      <td>0</td>\n",
       "      <td>0</td>\n",
       "    </tr>\n",
       "    <tr>\n",
       "      <th>1978</th>\n",
       "      <td>0</td>\n",
       "      <td>0</td>\n",
       "      <td>0</td>\n",
       "      <td>0</td>\n",
       "      <td>0</td>\n",
       "      <td>0</td>\n",
       "      <td>0</td>\n",
       "      <td>0</td>\n",
       "      <td>0</td>\n",
       "      <td>0</td>\n",
       "    </tr>\n",
       "    <tr>\n",
       "      <th>1979</th>\n",
       "      <td>0</td>\n",
       "      <td>0</td>\n",
       "      <td>0</td>\n",
       "      <td>0</td>\n",
       "      <td>0</td>\n",
       "      <td>0</td>\n",
       "      <td>0</td>\n",
       "      <td>0</td>\n",
       "      <td>0</td>\n",
       "      <td>0</td>\n",
       "    </tr>\n",
       "    <tr>\n",
       "      <th>1980</th>\n",
       "      <td>0</td>\n",
       "      <td>0</td>\n",
       "      <td>0</td>\n",
       "      <td>0</td>\n",
       "      <td>0</td>\n",
       "      <td>0</td>\n",
       "      <td>0</td>\n",
       "      <td>0</td>\n",
       "      <td>0</td>\n",
       "      <td>0</td>\n",
       "    </tr>\n",
       "    <tr>\n",
       "      <th>1981</th>\n",
       "      <td>0</td>\n",
       "      <td>0</td>\n",
       "      <td>0</td>\n",
       "      <td>0</td>\n",
       "      <td>0</td>\n",
       "      <td>0</td>\n",
       "      <td>0</td>\n",
       "      <td>0</td>\n",
       "      <td>0</td>\n",
       "      <td>0</td>\n",
       "    </tr>\n",
       "    <tr>\n",
       "      <th>1982</th>\n",
       "      <td>1</td>\n",
       "      <td>0</td>\n",
       "      <td>1</td>\n",
       "      <td>1</td>\n",
       "      <td>1</td>\n",
       "      <td>1</td>\n",
       "      <td>1</td>\n",
       "      <td>1</td>\n",
       "      <td>0</td>\n",
       "      <td>7</td>\n",
       "    </tr>\n",
       "    <tr>\n",
       "      <th>1983</th>\n",
       "      <td>0</td>\n",
       "      <td>0</td>\n",
       "      <td>0</td>\n",
       "      <td>0</td>\n",
       "      <td>0</td>\n",
       "      <td>0</td>\n",
       "      <td>0</td>\n",
       "      <td>0</td>\n",
       "      <td>0</td>\n",
       "      <td>0</td>\n",
       "    </tr>\n",
       "    <tr>\n",
       "      <th>1984</th>\n",
       "      <td>0</td>\n",
       "      <td>0</td>\n",
       "      <td>1</td>\n",
       "      <td>1</td>\n",
       "      <td>1</td>\n",
       "      <td>1</td>\n",
       "      <td>1</td>\n",
       "      <td>1</td>\n",
       "      <td>0</td>\n",
       "      <td>6</td>\n",
       "    </tr>\n",
       "    <tr>\n",
       "      <th>1985</th>\n",
       "      <td>0</td>\n",
       "      <td>0</td>\n",
       "      <td>0</td>\n",
       "      <td>0</td>\n",
       "      <td>0</td>\n",
       "      <td>0</td>\n",
       "      <td>0</td>\n",
       "      <td>0</td>\n",
       "      <td>0</td>\n",
       "      <td>0</td>\n",
       "    </tr>\n",
       "    <tr>\n",
       "      <th>1986</th>\n",
       "      <td>0</td>\n",
       "      <td>0</td>\n",
       "      <td>0</td>\n",
       "      <td>0</td>\n",
       "      <td>0</td>\n",
       "      <td>0</td>\n",
       "      <td>0</td>\n",
       "      <td>0</td>\n",
       "      <td>0</td>\n",
       "      <td>0</td>\n",
       "    </tr>\n",
       "    <tr>\n",
       "      <th>1987</th>\n",
       "      <td>0</td>\n",
       "      <td>0</td>\n",
       "      <td>0</td>\n",
       "      <td>0</td>\n",
       "      <td>0</td>\n",
       "      <td>0</td>\n",
       "      <td>0</td>\n",
       "      <td>0</td>\n",
       "      <td>0</td>\n",
       "      <td>0</td>\n",
       "    </tr>\n",
       "    <tr>\n",
       "      <th>1988</th>\n",
       "      <td>0</td>\n",
       "      <td>0</td>\n",
       "      <td>0</td>\n",
       "      <td>0</td>\n",
       "      <td>0</td>\n",
       "      <td>0</td>\n",
       "      <td>0</td>\n",
       "      <td>0</td>\n",
       "      <td>0</td>\n",
       "      <td>0</td>\n",
       "    </tr>\n",
       "    <tr>\n",
       "      <th>1989</th>\n",
       "      <td>0</td>\n",
       "      <td>0</td>\n",
       "      <td>0</td>\n",
       "      <td>0</td>\n",
       "      <td>0</td>\n",
       "      <td>0</td>\n",
       "      <td>0</td>\n",
       "      <td>0</td>\n",
       "      <td>0</td>\n",
       "      <td>0</td>\n",
       "    </tr>\n",
       "    <tr>\n",
       "      <th>1990</th>\n",
       "      <td>0</td>\n",
       "      <td>0</td>\n",
       "      <td>0</td>\n",
       "      <td>0</td>\n",
       "      <td>0</td>\n",
       "      <td>0</td>\n",
       "      <td>0</td>\n",
       "      <td>0</td>\n",
       "      <td>0</td>\n",
       "      <td>0</td>\n",
       "    </tr>\n",
       "    <tr>\n",
       "      <th>1991</th>\n",
       "      <td>0</td>\n",
       "      <td>0</td>\n",
       "      <td>0</td>\n",
       "      <td>0</td>\n",
       "      <td>0</td>\n",
       "      <td>0</td>\n",
       "      <td>0</td>\n",
       "      <td>0</td>\n",
       "      <td>0</td>\n",
       "      <td>0</td>\n",
       "    </tr>\n",
       "    <tr>\n",
       "      <th>1992</th>\n",
       "      <td>0</td>\n",
       "      <td>0</td>\n",
       "      <td>0</td>\n",
       "      <td>0</td>\n",
       "      <td>0</td>\n",
       "      <td>0</td>\n",
       "      <td>0</td>\n",
       "      <td>0</td>\n",
       "      <td>0</td>\n",
       "      <td>0</td>\n",
       "    </tr>\n",
       "    <tr>\n",
       "      <th>1993</th>\n",
       "      <td>0</td>\n",
       "      <td>0</td>\n",
       "      <td>0</td>\n",
       "      <td>0</td>\n",
       "      <td>0</td>\n",
       "      <td>0</td>\n",
       "      <td>0</td>\n",
       "      <td>0</td>\n",
       "      <td>0</td>\n",
       "      <td>0</td>\n",
       "    </tr>\n",
       "    <tr>\n",
       "      <th>1994</th>\n",
       "      <td>0</td>\n",
       "      <td>0</td>\n",
       "      <td>0</td>\n",
       "      <td>0</td>\n",
       "      <td>0</td>\n",
       "      <td>0</td>\n",
       "      <td>0</td>\n",
       "      <td>0</td>\n",
       "      <td>0</td>\n",
       "      <td>0</td>\n",
       "    </tr>\n",
       "    <tr>\n",
       "      <th>1995</th>\n",
       "      <td>0</td>\n",
       "      <td>0</td>\n",
       "      <td>0</td>\n",
       "      <td>0</td>\n",
       "      <td>0</td>\n",
       "      <td>0</td>\n",
       "      <td>0</td>\n",
       "      <td>0</td>\n",
       "      <td>0</td>\n",
       "      <td>0</td>\n",
       "    </tr>\n",
       "    <tr>\n",
       "      <th>1996</th>\n",
       "      <td>0</td>\n",
       "      <td>0</td>\n",
       "      <td>0</td>\n",
       "      <td>0</td>\n",
       "      <td>0</td>\n",
       "      <td>0</td>\n",
       "      <td>0</td>\n",
       "      <td>0</td>\n",
       "      <td>0</td>\n",
       "      <td>0</td>\n",
       "    </tr>\n",
       "    <tr>\n",
       "      <th>1997</th>\n",
       "      <td>0</td>\n",
       "      <td>0</td>\n",
       "      <td>0</td>\n",
       "      <td>0</td>\n",
       "      <td>0</td>\n",
       "      <td>0</td>\n",
       "      <td>0</td>\n",
       "      <td>0</td>\n",
       "      <td>0</td>\n",
       "      <td>0</td>\n",
       "    </tr>\n",
       "    <tr>\n",
       "      <th>1998</th>\n",
       "      <td>0</td>\n",
       "      <td>0</td>\n",
       "      <td>0</td>\n",
       "      <td>0</td>\n",
       "      <td>0</td>\n",
       "      <td>0</td>\n",
       "      <td>0</td>\n",
       "      <td>0</td>\n",
       "      <td>0</td>\n",
       "      <td>0</td>\n",
       "    </tr>\n",
       "    <tr>\n",
       "      <th>1999</th>\n",
       "      <td>0</td>\n",
       "      <td>0</td>\n",
       "      <td>0</td>\n",
       "      <td>0</td>\n",
       "      <td>0</td>\n",
       "      <td>0</td>\n",
       "      <td>0</td>\n",
       "      <td>0</td>\n",
       "      <td>0</td>\n",
       "      <td>0</td>\n",
       "    </tr>\n",
       "  </tbody>\n",
       "</table>\n",
       "<p>2000 rows × 10 columns</p>\n",
       "</div>"
      ],
      "text/plain": [
       "      CatBoost  CatBoost2  XGBoost  XGBoost2  LGBM  LGBM2  GBDT  GBDT2  \\\n",
       "0            0          0        0         0     0      0     0      0   \n",
       "1            0          0        0         0     0      0     0      0   \n",
       "2            0          0        0         0     0      0     0      0   \n",
       "3            0          0        0         0     0      0     0      0   \n",
       "4            0          0        0         0     0      0     0      0   \n",
       "5            0          0        0         0     0      0     0      0   \n",
       "6            0          0        0         0     0      0     0      0   \n",
       "7            0          0        0         0     0      0     0      0   \n",
       "8            0          0        0         0     0      0     0      0   \n",
       "9            0          0        0         0     0      0     0      0   \n",
       "10           0          0        0         0     0      0     0      0   \n",
       "11           0          0        0         0     0      0     0      0   \n",
       "12           0          0        0         0     0      0     0      0   \n",
       "13           0          0        0         0     0      0     0      0   \n",
       "14           0          0        0         0     0      0     0      0   \n",
       "15           1          0        0         0     1      1     0      1   \n",
       "16           0          0        0         0     0      0     0      0   \n",
       "17           0          0        0         0     0      0     0      0   \n",
       "18           0          0        0         0     0      0     0      0   \n",
       "19           0          0        0         0     0      0     0      0   \n",
       "20           0          0        0         0     0      0     0      0   \n",
       "21           0          0        0         0     0      0     0      0   \n",
       "22           0          0        0         0     0      0     0      0   \n",
       "23           0          0        0         0     0      0     0      0   \n",
       "24           0          0        0         0     0      0     0      0   \n",
       "25           0          0        0         0     0      0     0      0   \n",
       "26           0          0        0         0     0      0     0      0   \n",
       "27           0          0        0         0     0      0     0      0   \n",
       "28           0          0        0         0     0      0     0      0   \n",
       "29           1          1        1         1     1      0     1      1   \n",
       "...        ...        ...      ...       ...   ...    ...   ...    ...   \n",
       "1970         0          0        0         0     0      0     0      0   \n",
       "1971         1          1        1         1     1      1     1      1   \n",
       "1972         0          0        0         0     0      0     0      0   \n",
       "1973         0          0        0         0     0      0     0      0   \n",
       "1974         0          0        0         0     0      0     0      0   \n",
       "1975         0          0        0         0     0      0     0      0   \n",
       "1976         0          0        0         0     0      0     0      0   \n",
       "1977         0          0        0         0     0      0     0      0   \n",
       "1978         0          0        0         0     0      0     0      0   \n",
       "1979         0          0        0         0     0      0     0      0   \n",
       "1980         0          0        0         0     0      0     0      0   \n",
       "1981         0          0        0         0     0      0     0      0   \n",
       "1982         1          0        1         1     1      1     1      1   \n",
       "1983         0          0        0         0     0      0     0      0   \n",
       "1984         0          0        1         1     1      1     1      1   \n",
       "1985         0          0        0         0     0      0     0      0   \n",
       "1986         0          0        0         0     0      0     0      0   \n",
       "1987         0          0        0         0     0      0     0      0   \n",
       "1988         0          0        0         0     0      0     0      0   \n",
       "1989         0          0        0         0     0      0     0      0   \n",
       "1990         0          0        0         0     0      0     0      0   \n",
       "1991         0          0        0         0     0      0     0      0   \n",
       "1992         0          0        0         0     0      0     0      0   \n",
       "1993         0          0        0         0     0      0     0      0   \n",
       "1994         0          0        0         0     0      0     0      0   \n",
       "1995         0          0        0         0     0      0     0      0   \n",
       "1996         0          0        0         0     0      0     0      0   \n",
       "1997         0          0        0         0     0      0     0      0   \n",
       "1998         0          0        0         0     0      0     0      0   \n",
       "1999         0          0        0         0     0      0     0      0   \n",
       "\n",
       "      RandomForest  Sum  \n",
       "0                0    0  \n",
       "1                0    0  \n",
       "2                0    0  \n",
       "3                0    0  \n",
       "4                0    0  \n",
       "5                0    0  \n",
       "6                0    0  \n",
       "7                0    0  \n",
       "8                0    0  \n",
       "9                0    0  \n",
       "10               0    0  \n",
       "11               0    0  \n",
       "12               0    0  \n",
       "13               0    0  \n",
       "14               0    0  \n",
       "15               0    4  \n",
       "16               0    0  \n",
       "17               0    0  \n",
       "18               0    0  \n",
       "19               0    0  \n",
       "20               0    0  \n",
       "21               0    0  \n",
       "22               0    0  \n",
       "23               0    0  \n",
       "24               0    0  \n",
       "25               0    0  \n",
       "26               0    0  \n",
       "27               0    0  \n",
       "28               0    0  \n",
       "29               0    7  \n",
       "...            ...  ...  \n",
       "1970             0    0  \n",
       "1971             1    9  \n",
       "1972             0    0  \n",
       "1973             0    0  \n",
       "1974             0    0  \n",
       "1975             0    0  \n",
       "1976             0    0  \n",
       "1977             0    0  \n",
       "1978             0    0  \n",
       "1979             0    0  \n",
       "1980             0    0  \n",
       "1981             0    0  \n",
       "1982             0    7  \n",
       "1983             0    0  \n",
       "1984             0    6  \n",
       "1985             0    0  \n",
       "1986             0    0  \n",
       "1987             0    0  \n",
       "1988             0    0  \n",
       "1989             0    0  \n",
       "1990             0    0  \n",
       "1991             0    0  \n",
       "1992             0    0  \n",
       "1993             0    0  \n",
       "1994             0    0  \n",
       "1995             0    0  \n",
       "1996             0    0  \n",
       "1997             0    0  \n",
       "1998             0    0  \n",
       "1999             0    0  \n",
       "\n",
       "[2000 rows x 10 columns]"
      ]
     },
     "execution_count": 45,
     "metadata": {},
     "output_type": "execute_result"
    }
   ],
   "source": [
    "combined_result = pd.DataFrame(prediction_CatBoost,columns=['CatBoost'])\n",
    "combined_result['CatBoost2'] = prediction_CatBoost2\n",
    "combined_result['XGBoost'] = prediction_XGBoost\n",
    "combined_result['XGBoost2'] = prediction_XGBoost_tuned\n",
    "combined_result['LGBM'] = prediction_LGBM\n",
    "combined_result['LGBM2'] = prediction_LGBM2\n",
    "combined_result['GBDT'] = prediction_GBDT\n",
    "combined_result['GBDT2'] = prediction_GBDT2\n",
    "combined_result['RandomForest'] = prediction_RF\n",
    "\n",
    "combined_result['Sum'] = combined_result['CatBoost']+combined_result['XGBoost']+combined_result['XGBoost2']+combined_result['LGBM']+combined_result['GBDT']+combined_result['CatBoost2']+combined_result['RandomForest']+combined_result['LGBM2']+combined_result['GBDT2']\n",
    "combined_result"
   ]
  },
  {
   "cell_type": "code",
   "execution_count": 46,
   "metadata": {
    "scrolled": true
   },
   "outputs": [
    {
     "data": {
      "text/html": [
       "        <script type=\"text/javascript\">\n",
       "        window.PlotlyConfig = {MathJaxConfig: 'local'};\n",
       "        if (window.MathJax) {MathJax.Hub.Config({SVG: {font: \"STIX-Web\"}});}\n",
       "        if (typeof require !== 'undefined') {\n",
       "        require.undef(\"plotly\");\n",
       "        requirejs.config({\n",
       "            paths: {\n",
       "                'plotly': ['https://cdn.plot.ly/plotly-latest.min']\n",
       "            }\n",
       "        });\n",
       "        require(['plotly'], function(Plotly) {\n",
       "            window._Plotly = Plotly;\n",
       "        });\n",
       "        }\n",
       "        </script>\n",
       "        "
      ]
     },
     "metadata": {},
     "output_type": "display_data"
    },
    {
     "data": {
      "application/vnd.plotly.v1+json": {
       "config": {
        "linkText": "Export to plot.ly",
        "plotlyServerURL": "https://plot.ly",
        "responsive": true,
        "showLink": false
       },
       "data": [
        {
         "colorscale": "Viridis",
         "reversescale": true,
         "showscale": true,
         "type": "heatmap",
         "uid": "27ade38a-e8c7-4c64-a265-984952a9ab2c",
         "x": [
          "CatBoost",
          "CatBoost2",
          "XGBoost",
          "XGBoost2",
          "LGBM",
          "LGBM2",
          "GBDT",
          "GBDT2",
          "RandomForest"
         ],
         "y": [
          "CatBoost",
          "CatBoost2",
          "XGBoost",
          "XGBoost2",
          "LGBM",
          "LGBM2",
          "GBDT",
          "GBDT2",
          "RandomForest"
         ],
         "z": [
          [
           1,
           0.779396845232276,
           0.7834656792191879,
           0.7756176729666232,
           0.8329061711809096,
           0.8294468167851597,
           0.8049128074014265,
           0.8245910234158986,
           0.5711946354582627
          ],
          [
           0.779396845232276,
           1,
           0.8126679222648079,
           0.6853177639347681,
           0.7428483064749023,
           0.7707344843763877,
           0.7885388848693643,
           0.7407319317457239,
           0.7333154958972936
          ],
          [
           0.7834656792191879,
           0.8126679222648079,
           1,
           0.7808448437630154,
           0.8342121035856962,
           0.9119185259413138,
           0.9330223742219044,
           0.8567289297785242,
           0.6236551682917345
          ],
          [
           0.7756176729666232,
           0.6853177639347681,
           0.7808448437630154,
           1,
           0.8344337750024469,
           0.8346441904073104,
           0.8003902012513052,
           0.8263524629645864,
           0.5483195701268848
          ],
          [
           0.8329061711809096,
           0.7428483064749023,
           0.8342121035856962,
           0.8344337750024469,
           1,
           0.8696258114391596,
           0.828949233917521,
           0.8490793887055386,
           0.5592090634389626
          ],
          [
           0.8294468167851597,
           0.7707344843763877,
           0.9119185259413138,
           0.8346441904073104,
           0.8696258114391596,
           1,
           0.9062664565136083,
           0.8971765356041478,
           0.5975029665904781
          ],
          [
           0.8049128074014265,
           0.7885388848693643,
           0.9330223742219044,
           0.8003902012513052,
           0.828949233917521,
           0.9062664565136083,
           1,
           0.8816832659963023,
           0.6112125398988687
          ],
          [
           0.8245910234158986,
           0.7407319317457239,
           0.8567289297785242,
           0.8263524629645864,
           0.8490793887055386,
           0.8971765356041478,
           0.8816832659963023,
           1,
           0.5576189073395822
          ],
          [
           0.5711946354582627,
           0.7333154958972936,
           0.6236551682917345,
           0.5483195701268848,
           0.5592090634389626,
           0.5975029665904781,
           0.6112125398988687,
           0.5576189073395822,
           1
          ]
         ]
        }
       ],
       "layout": {}
      },
      "text/html": [
       "<div>\n",
       "        \n",
       "        \n",
       "            <div id=\"ee261eda-73b9-4115-9aa0-742a2bb1de85\" class=\"plotly-graph-div\"></div>\n",
       "            <script type=\"text/javascript\">\n",
       "                require([\"plotly\"], function(Plotly) {\n",
       "                    window.PLOTLYENV=window.PLOTLYENV || {};\n",
       "                    window.PLOTLYENV.BASE_URL='https://plot.ly';\n",
       "                    \n",
       "                if (document.getElementById(\"ee261eda-73b9-4115-9aa0-742a2bb1de85\")) {\n",
       "                    Plotly.newPlot(\n",
       "                        'ee261eda-73b9-4115-9aa0-742a2bb1de85',\n",
       "                        [{\"colorscale\": \"Viridis\", \"reversescale\": true, \"showscale\": true, \"type\": \"heatmap\", \"uid\": \"49dbfc21-9bef-4a7d-8161-3922bc348776\", \"x\": [\"CatBoost\", \"CatBoost2\", \"XGBoost\", \"XGBoost2\", \"LGBM\", \"LGBM2\", \"GBDT\", \"GBDT2\", \"RandomForest\"], \"y\": [\"CatBoost\", \"CatBoost2\", \"XGBoost\", \"XGBoost2\", \"LGBM\", \"LGBM2\", \"GBDT\", \"GBDT2\", \"RandomForest\"], \"z\": [[1.0, 0.779396845232276, 0.7834656792191879, 0.7756176729666232, 0.8329061711809096, 0.8294468167851597, 0.8049128074014265, 0.8245910234158986, 0.5711946354582627], [0.779396845232276, 1.0, 0.8126679222648079, 0.6853177639347681, 0.7428483064749023, 0.7707344843763877, 0.7885388848693643, 0.7407319317457239, 0.7333154958972936], [0.7834656792191879, 0.8126679222648079, 1.0, 0.7808448437630154, 0.8342121035856962, 0.9119185259413138, 0.9330223742219044, 0.8567289297785242, 0.6236551682917345], [0.7756176729666232, 0.6853177639347681, 0.7808448437630154, 1.0, 0.8344337750024469, 0.8346441904073104, 0.8003902012513052, 0.8263524629645864, 0.5483195701268848], [0.8329061711809096, 0.7428483064749023, 0.8342121035856962, 0.8344337750024469, 1.0, 0.8696258114391596, 0.828949233917521, 0.8490793887055386, 0.5592090634389626], [0.8294468167851597, 0.7707344843763877, 0.9119185259413138, 0.8346441904073104, 0.8696258114391596, 1.0, 0.9062664565136083, 0.8971765356041478, 0.5975029665904781], [0.8049128074014265, 0.7885388848693643, 0.9330223742219044, 0.8003902012513052, 0.828949233917521, 0.9062664565136083, 1.0, 0.8816832659963023, 0.6112125398988687], [0.8245910234158986, 0.7407319317457239, 0.8567289297785242, 0.8263524629645864, 0.8490793887055386, 0.8971765356041478, 0.8816832659963023, 1.0, 0.5576189073395822], [0.5711946354582627, 0.7333154958972936, 0.6236551682917345, 0.5483195701268848, 0.5592090634389626, 0.5975029665904781, 0.6112125398988687, 0.5576189073395822, 1.0]]}],\n",
       "                        {},\n",
       "                        {\"showLink\": false, \"linkText\": \"Export to plot.ly\", \"plotlyServerURL\": \"https://plot.ly\", \"responsive\": true}\n",
       "                    )\n",
       "                };\n",
       "                });\n",
       "            </script>\n",
       "        </div>"
      ]
     },
     "metadata": {},
     "output_type": "display_data"
    }
   ],
   "source": [
    "import plotly.offline as py\n",
    "py.init_notebook_mode(connected=True)\n",
    "import plotly.graph_objs as go\n",
    "\n",
    "df = combined_result.drop('Sum',axis=1)\n",
    "\n",
    "data = [\n",
    "    go.Heatmap(\n",
    "        z= df.astype(float).corr().values ,\n",
    "        x=df.columns.values,\n",
    "        y= df.columns.values,\n",
    "          colorscale='Viridis',\n",
    "            showscale=True,\n",
    "            reversescale = True\n",
    "    )\n",
    "]\n",
    "py.iplot(data, filename='labelled-heatmap')"
   ]
  },
  {
   "cell_type": "markdown",
   "metadata": {},
   "source": [
    "其實各分類模型的預測結果相關性還是偏高的，在未來若希望再進一步提升結果，這將是一個可以著手的地方。"
   ]
  },
  {
   "cell_type": "markdown",
   "metadata": {},
   "source": [
    "### 4.4 最終預測及輸出\n",
    "因為個別分類模型的Precision都夠高，因此不同於一般的Voting，我們設定只要有三個Model預測為1我們就接受最終答案為1。"
   ]
  },
  {
   "cell_type": "code",
   "execution_count": 47,
   "metadata": {
    "scrolled": false
   },
   "outputs": [
    {
     "name": "stdout",
     "output_type": "stream",
     "text": [
      "190\n"
     ]
    }
   ],
   "source": [
    "test_result = []\n",
    "for i in combined_result['Sum']:\n",
    "    if i >= 3:\n",
    "        test_result.append(1)\n",
    "    else:\n",
    "        test_result.append(0)\n",
    "#res = evaluate_y_te(test_result,boundary=0.5)\n",
    "print(sum(test_result))"
   ]
  },
  {
   "cell_type": "code",
   "execution_count": 42,
   "metadata": {},
   "outputs": [],
   "source": [
    "Result = pd.DataFrame(RowNumber)\n",
    "Result['Exited'] = test_result\n",
    "\n",
    "Result.to_csv('Submission.csv')"
   ]
  },
  {
   "cell_type": "markdown",
   "metadata": {},
   "source": [
    "## 5. 預測結果及分析\n",
    "### 5.1 驗證資料得分\n",
    "(train_test_split under random_state=95)\n",
    "<img src=\"0003.png\"/>\n",
    "\n",
    "### 5.2 測試資料上傳得分\n",
    "<img src=\"0001.jpg\"/>\n",
    "最終獲得第三名。\n",
    "\n",
    "### 5.3 結果分析\n",
    "　　我們最後上傳的結果其實是比我們驗證資料得分還要高的，這可能代表我們其實還是Under Fitting的狀態，或許當我們再調整參數，還有可能再提升預測結果。又或許是這份驗證資料其實較不具代表性，也可能我們其實只是很巧合的正好Fit到了測試資料而已:)\n",
    "  \n",
    "## 6. 心得與感想"
   ]
  },
  {
   "cell_type": "markdown",
   "metadata": {},
   "source": [
    "<img src=\"mdddd.jpg\" width = \"180\" height = \"180\" alt=\"MD小穎\" align=left />\n",
    "\n",
    "### 小穎\n",
    "　　能上老師的課的感覺很棒，老師又很好笑，上老師的課的時候大概都是我最認真的時候了哈哈。<br />\n",
    "　　做競賽有排名這件事本身就很有壓力XD，不過這次競賽也是我第一次用python做training data，所以一開始也是摸索了很久，從找自己想方法、找模型、調整資料、調整參數，也花了不少時間，不過藉由這次競賽，自己也上網搜尋了很多別人做過的方法跟資料，上面那個網頁標籤跟老師一樣開到數不清XD。<br />\n",
    "\n",
    "　　艾霓真的很瘋狂，無時無刻都在做，這次競賽他的貢獻也比我還多，我想我下次要更努力了哈哈。"
   ]
  },
  {
   "cell_type": "markdown",
   "metadata": {},
   "source": [
    "<img src=\"aaa.png\" width = \"180\" height = \"180\" alt=\"aini\" align=right />\n",
    "\n",
    "### 艾霓\n",
    "　　很感謝老師這麼用心的設計了這個競賽，很好玩：)<br />\n",
    "　　第一次接觸到機器學習的領域，透過這個競賽讓我能夠從頭開始探索與學習，從一個關鍵字到下一個關鍵字，隨著一次又一次的搜尋，我對這個領域的認識又更深了一些，我相信這樣的過程是重要的，也正因為是自己去挖掘，這些寶藏才更顯珍貴。在整個過程中，每當發現了一個新的關鍵字，都可以讓我興奮地睡不著覺，迫不及待想去嘗試，而我也在不斷的Try and Error當中又有了更多的思考和學習。<br />\n",
    "　　在競賽結束之後，我也去回想，或許當初沒有成功的那些方法是可以再做得更好的，像是拿來Voting或是Stacking的模型可能本身就太強了，試試看換成弱一點的Model說不定會有更好的效果，或是也可以嘗試先建立一個Classifier Pool，再用Genetic Algorithm找出較適合的組合來Ensemble，在這種方法下，也能將適應函數設定成Final Score(也可以把交叉驗證也寫進去)，或許可以使我們更逼近最佳解。<br />\n",
    "　　儘管競賽已經持續了幾個禮拜，但是一直到現在還是能不斷發現更多更多從來沒接觸過的東西，雖然大多數的方法都還來不及把原理搞懂，但還是期望自己之後還能在有空的時間好好的扎實的把機器學習的這些原理及算法學好。說不定哪天還能寫出一套算法那也是蠻酷炫的事情。xD"
   ]
  },
  {
   "cell_type": "markdown",
   "metadata": {},
   "source": [
    "# 最後最後...附上那些我們失敗的各種過程 :D\n",
    "下面完全不重要，只是我們在過程中曾經畫過的幾個有趣或有意義的圖形\n",
    "\n",
    "<img src=\"3.png\" align=left />\n",
    "<img src=\"2.png\" />\n",
    "　　　　　　　　　　　▲ 全部預測0的SVC　　　　　　　　　　　　　　　　　　　　　　　　　　　　　▲ 沒救的MLP          "
   ]
  },
  {
   "cell_type": "markdown",
   "metadata": {},
   "source": [
    "<img src=\"5.png\" align=left />"
   ]
  },
  {
   "cell_type": "markdown",
   "metadata": {},
   "source": [
    "　　　　　　　　　　　　▲ 各種Classifier使用預設參數的預測結果(10-folds)"
   ]
  },
  {
   "cell_type": "markdown",
   "metadata": {},
   "source": [
    "<img src=\"6.png\" align=left />"
   ]
  },
  {
   "cell_type": "markdown",
   "metadata": {},
   "source": [
    "　　　　　　　　　　　　　　　　　　　　　　▲ 某次Voting所使用所有模型的Feature importance"
   ]
  },
  {
   "cell_type": "markdown",
   "metadata": {},
   "source": [
    "<img src=\"4.png\" />"
   ]
  },
  {
   "cell_type": "markdown",
   "metadata": {},
   "source": [
    "　　　　　　　　　　　　　　　　　　　　　　　　　　　　▲ 以及結果之間的相關性\n",
    "\n",
    "\n",
    "(這個Voting最後上傳Final Score只有0.7195)"
   ]
  }
 ],
 "metadata": {
  "kernelspec": {
   "display_name": "Python 3",
   "language": "python",
   "name": "python3"
  },
  "language_info": {
   "codemirror_mode": {
    "name": "ipython",
    "version": 3
   },
   "file_extension": ".py",
   "mimetype": "text/x-python",
   "name": "python",
   "nbconvert_exporter": "python",
   "pygments_lexer": "ipython3",
   "version": "3.7.5"
  }
 },
 "nbformat": 4,
 "nbformat_minor": 2
}
